{
 "cells": [
  {
   "cell_type": "markdown",
   "metadata": {},
   "source": [
    "<h1 style=\n",
    "  \"margin-top: 0px;\n",
    "  margin-bottom: 10px;\n",
    "  font-family: sans-serif;\n",
    "  font-size: 8rem;\">\n",
    "<span style=\"color:#808080\">D</span><span style=\"color:#808080\">Q</span><span style=\"color:#808080\">N</span>\n",
    "</h1>\n",
    "\n",
    "In this homework, Jupyter Notebook is mainly used for visualizations and reporting the results. We will start implementing a vanilla DQN agent and continue with implementing a RAINBOW agent. In general, there are 3 scripts to run a training experiment with the DQN agent on an environment. First one is the model where we implement the policy and the loss function. Second one is the Trainer class, where all of the training and evaluation is handled. This class is responsible for parameter updates, running the environment, and keeping track of necessary statistics as well as saving the model (agent and optimizer). Lastly, the third script initiates the agent, trainer, environment, and starts the training with the given arguments.\n",
    "\n",
    "- DQN\n",
    "    - model\n",
    "    - trainer\n",
    "    - box2d (experiment script)\n",
    "\n",
    "We will follow a very similar structure for the Rainbow agent.\n",
    "\n",
    "#### Running\n",
    "\n",
    "We will train each experiment with 5 different seeds to have a good understanding of the stochasticity involved in the training process. You can run your experiments with command-line interface within the notebook.\n",
    "\n",
    "Run the cell below to see CL arguments"
   ]
  },
  {
   "cell_type": "code",
   "execution_count": 1,
   "metadata": {},
   "outputs": [],
   "source": [
    "%load_ext autoreload\n",
    "%autoreload 2"
   ]
  },
  {
   "cell_type": "code",
   "execution_count": 1,
   "metadata": {
    "ExecuteTime": {
     "end_time": "2022-04-07T23:48:33.777923Z",
     "start_time": "2022-04-07T23:48:26.673040Z"
    },
    "vscode": {
     "languageId": "shellscript"
    }
   },
   "outputs": [
    {
     "name": "stdout",
     "output_type": "stream",
     "text": [
      "usage: box2d.py [-h] [--envname ENVNAME] [--n-iterations N_ITERATIONS]\r\n",
      "                [--start-update START_UPDATE]\r\n",
      "                [--max-episode-len MAX_EPISODE_LEN] [--batch-size BATCH_SIZE]\r\n",
      "                [--gamma GAMMA] [--lr LR] [--device DEVICE]\r\n",
      "                [--target-update-period TARGET_UPDATE_PERIOD]\r\n",
      "                [--buffer-capacity BUFFER_CAPACITY]\r\n",
      "                [--epsilon-init EPSILON_INIT] [--epsilon-min EPSILON_MIN]\r\n",
      "                [--epsilon-decay EPSILON_DECAY]\r\n",
      "                [--epsilon-range EPSILON_RANGE] [--clip-grad]\r\n",
      "                [--eval-period EVAL_PERIOD] [--eval-episode EVAL_EPISODE]\r\n",
      "                [--save-model] [--model-dir MODEL_DIR]\r\n",
      "                [--write-period WRITE_PERIOD] [--log_dir LOG_DIR] [--render]\r\n",
      "                [--seed SEED]\r\n",
      "\r\n",
      "DQN\r\n",
      "\r\n",
      "optional arguments:\r\n",
      "  -h, --help            show this help message and exit\r\n",
      "  --envname ENVNAME     Name of the environment\r\n",
      "  --n-iterations N_ITERATIONS\r\n",
      "                        Number of training iterations\r\n",
      "  --start-update START_UPDATE\r\n",
      "                        Number of iterations to wait before starting to update\r\n",
      "  --max-episode-len MAX_EPISODE_LEN\r\n",
      "                        Maximum length of an episode before termination\r\n",
      "  --batch-size BATCH_SIZE\r\n",
      "                        Batch size of each update in training\r\n",
      "  --gamma GAMMA         Discount Factor\r\n",
      "  --lr LR               Learning Rate\r\n",
      "  --device DEVICE       Torch device\r\n",
      "  --target-update-period TARGET_UPDATE_PERIOD\r\n",
      "                        Target network update period\r\n",
      "  --buffer-capacity BUFFER_CAPACITY\r\n",
      "                        Replay buffer capacity\r\n",
      "  --epsilon-init EPSILON_INIT\r\n",
      "                        Initial value of the epsilon\r\n",
      "  --epsilon-min EPSILON_MIN\r\n",
      "                        Minimum value of the epsilon\r\n",
      "  --epsilon-decay EPSILON_DECAY\r\n",
      "                        Epsilon decay rate for exponential decaying\r\n",
      "  --epsilon-range EPSILON_RANGE\r\n",
      "                        Epsilon decaying range for linear decay\r\n",
      "  --clip-grad           Gradient Clip between -1 and 1. Default: No\r\n",
      "  --eval-period EVAL_PERIOD\r\n",
      "                        Evaluation period in terms of iteration\r\n",
      "  --eval-episode EVAL_EPISODE\r\n",
      "                        Number of episodes to evaluate the policy at\r\n",
      "                        evaluation\r\n",
      "  --save-model          If given most successful models so far will be saved\r\n",
      "  --model-dir MODEL_DIR\r\n",
      "                        Directory to save models\r\n",
      "  --write-period WRITE_PERIOD\r\n",
      "                        Logging period in terms of iterations\r\n",
      "  --log_dir LOG_DIR     Logging directory. Default: /tmp\r\n",
      "  --render              Render evaluations\r\n",
      "  --seed SEED           Seed value. Default: Random seed\r\n"
     ]
    }
   ],
   "source": [
    "!python dqn/dqn/box2d.py --help"
   ]
  },
  {
   "cell_type": "markdown",
   "metadata": {},
   "source": [
    "An example dqn run is given below. (You need to fill the missing parts before running the command below)"
   ]
  },
  {
   "cell_type": "code",
   "execution_count": 93,
   "metadata": {
    "ExecuteTime": {
     "end_time": "2022-04-07T23:56:03.715009Z",
     "start_time": "2022-04-07T23:55:26.888181Z"
    },
    "vscode": {
     "languageId": "shellscript"
    }
   },
   "outputs": [
    {
     "name": "stdout",
     "output_type": "stream",
     "text": [
      "/home/puren/miniconda3/envs/rlhw2/lib/python3.7/site-packages/gym/core.py:173: DeprecationWarning: \u001b[33mWARN: Function `env.seed(seed)` is marked as deprecated and will be removed in the future. Please use `env.reset(seed=seed) instead.\u001b[0m\n",
      "  \"Function `env.seed(seed)` is marked as deprecated and will be removed in the future. \"\n",
      "/home/puren/miniconda3/envs/rlhw2/lib/python3.7/site-packages/numpy/core/fromnumeric.py:3441: RuntimeWarning: Mean of empty slice.\n",
      "  out=out, **kwargs)\n",
      "/home/puren/miniconda3/envs/rlhw2/lib/python3.7/site-packages/numpy/core/_methods.py:189: RuntimeWarning: invalid value encountered in double_scalars\n",
      "  ret = ret.dtype.type(ret / rcount)\n",
      "Iteration :      0, Train reward:    nan, Eval reward: -116.9112983300972, TD loss   :    nan, Episode   :      0\n",
      "Iteration :    100, Train reward: -100.0, Eval reward: -116.9112983300972, TD loss   : 98.61790466308594, Episode   :     99\n",
      "Iteration :    200, Train reward: -100.0, Eval reward: -116.9112983300972, TD loss   : 91.14251708984375, Episode   :    199\n",
      "Iteration :    300, Train reward: -100.0, Eval reward: -116.9112983300972, TD loss   : -8.24285888671875, Episode   :    299\n",
      "Iteration :    400, Train reward: -100.0, Eval reward: -116.9112983300972, TD loss   : -255.02401733398438, Episode   :    399\n",
      "Iteration :    500, Train reward: -100.0, Eval reward: -418.37891378407176, TD loss   : -2306.890380859375, Episode   :    499\n",
      "Iteration :    600, Train reward: -100.0, Eval reward: -418.37891378407176, TD loss   : -6935.21875, Episode   :    599\n",
      "Iteration :    700, Train reward: -100.0, Eval reward: -418.37891378407176, TD loss   : -3570.501953125, Episode   :    699\n",
      "Iteration :    800, Train reward: -100.0, Eval reward: -418.37891378407176, TD loss   : -8377.7490234375, Episode   :    799\n",
      "Iteration :    900, Train reward: -100.0, Eval reward: -418.37891378407176, TD loss   : -13702.732421875, Episode   :    899\n",
      "Iteration :   1000, Train reward: -100.0, Eval reward: -474.3781702811496, TD loss   : -10087.51953125, Episode   :    999\n",
      "Iteration :   1100, Train reward: -100.0, Eval reward: -474.3781702811496, TD loss   : -37142.203125, Episode   :   1099\n",
      "Iteration :   1200, Train reward: -100.0, Eval reward: -474.3781702811496, TD loss   : -62878.8203125, Episode   :   1199\n",
      "Iteration :   1300, Train reward: -100.0, Eval reward: -474.3781702811496, TD loss   : -34360.3828125, Episode   :   1299\n",
      "Iteration :   1400, Train reward: -100.0, Eval reward: -474.3781702811496, TD loss   : -105416.5625, Episode   :   1399\n",
      "Iteration :   1500, Train reward: -100.0, Eval reward: -424.48884713257337, TD loss   : -260178.8125, Episode   :   1499\n",
      "Iteration :   1600, Train reward: -100.0, Eval reward: -424.48884713257337, TD loss   : -143721.640625, Episode   :   1599\n",
      "Iteration :   1700, Train reward: -100.0, Eval reward: -424.48884713257337, TD loss   : -305977.09375, Episode   :   1699\n",
      "Iteration :   1800, Train reward: -100.0, Eval reward: -424.48884713257337, TD loss   : -448181.125, Episode   :   1799\n",
      "Iteration :   1900, Train reward: -100.0, Eval reward: -424.48884713257337, TD loss   : -191660.40625, Episode   :   1899\n",
      "Iteration :   2000, Train reward: -100.0, Eval reward: -566.3434727525054, TD loss   : -450751.59375, Episode   :   1999\n",
      "Iteration :   2100, Train reward: -100.0, Eval reward: -566.3434727525054, TD loss   : -729170.75, Episode   :   2099\n",
      "Iteration :   2200, Train reward: -100.0, Eval reward: -566.3434727525054, TD loss   : -344017.53125, Episode   :   2199\n",
      "Iteration :   2300, Train reward: -100.0, Eval reward: -566.3434727525054, TD loss   : -607082.625, Episode   :   2299\n",
      "Iteration :   2400, Train reward: -100.0, Eval reward: -566.3434727525054, TD loss   : -818995.5, Episode   :   2399\n",
      "Iteration :   2500, Train reward: -100.0, Eval reward: -145.71823893832715, TD loss   : -397576.28125, Episode   :   2499\n",
      "Iteration :   2600, Train reward: -100.0, Eval reward: -145.71823893832715, TD loss   : -630034.375, Episode   :   2599\n",
      "Iteration :   2700, Train reward: -100.0, Eval reward: -145.71823893832715, TD loss   : -895100.8125, Episode   :   2699\n",
      "Iteration :   2800, Train reward: -100.0, Eval reward: -145.71823893832715, TD loss   : -449419.59375, Episode   :   2799\n",
      "Iteration :   2900, Train reward: -100.0, Eval reward: -145.71823893832715, TD loss   : -737182.625, Episode   :   2899\n",
      "Iteration :   3000, Train reward: -100.0, Eval reward: -627.3321990082129, TD loss   : -955443.6875, Episode   :   2999\n",
      "Iteration :   3100, Train reward: -100.0, Eval reward: -627.3321990082129, TD loss   : -484399.40625, Episode   :   3099\n",
      "Iteration :   3200, Train reward: -100.0, Eval reward: -627.3321990082129, TD loss   : -801033.0625, Episode   :   3199\n",
      "Iteration :   3300, Train reward: -100.0, Eval reward: -627.3321990082129, TD loss   : -1097372.25, Episode   :   3299\n",
      "Iteration :   3400, Train reward: -100.0, Eval reward: -627.3321990082129, TD loss   : -751981.375, Episode   :   3399\n",
      "Iteration :   3500, Train reward: -100.0, Eval reward: -920.3763605222308, TD loss   : -1373946.5, Episode   :   3499\n",
      "Iteration :   3600, Train reward: -100.0, Eval reward: -920.3763605222308, TD loss   : -2209672.0, Episode   :   3599\n",
      "Iteration :   3700, Train reward: -100.0, Eval reward: -920.3763605222308, TD loss   : -1157621.625, Episode   :   3699\n",
      "Iteration :   3800, Train reward: -100.0, Eval reward: -920.3763605222308, TD loss   : -1785185.25, Episode   :   3799\n",
      "Iteration :   3900, Train reward: -100.0, Eval reward: -920.3763605222308, TD loss   : -2370482.25, Episode   :   3899\n",
      "Iteration :   4000, Train reward: -100.0, Eval reward: -586.4210897804433, TD loss   : -1340098.5, Episode   :   3999\n",
      "Iteration :   4100, Train reward: -100.0, Eval reward: -586.4210897804433, TD loss   : -2002433.25, Episode   :   4099\n",
      "Iteration :   4200, Train reward: -100.0, Eval reward: -586.4210897804433, TD loss   : -2536084.5, Episode   :   4199\n",
      "Iteration :   4300, Train reward: -100.0, Eval reward: -586.4210897804433, TD loss   : -1498515.625, Episode   :   4299\n",
      "Iteration :   4400, Train reward: -100.0, Eval reward: -586.4210897804433, TD loss   : -2125882.5, Episode   :   4399\n",
      "Iteration :   4500, Train reward: -100.0, Eval reward: -544.2736585555742, TD loss   : -2593571.0, Episode   :   4499\n",
      "Iteration :   4600, Train reward: -100.0, Eval reward: -544.2736585555742, TD loss   : -1707826.5, Episode   :   4599\n",
      "Iteration :   4700, Train reward: -100.0, Eval reward: -544.2736585555742, TD loss   : -2301072.25, Episode   :   4699\n",
      "Iteration :   4800, Train reward: -100.0, Eval reward: -544.2736585555742, TD loss   : -2687713.5, Episode   :   4799\n",
      "Iteration :   4900, Train reward: -100.0, Eval reward: -544.2736585555742, TD loss   : -1804698.125, Episode   :   4899\n",
      "Iteration :   5000, Train reward: -100.0, Eval reward: -672.3857785628808, TD loss   : -2408332.25, Episode   :   4999\n",
      "Iteration :   5100, Train reward: -100.0, Eval reward: -672.3857785628808, TD loss   : -2870131.0, Episode   :   5099\n",
      "Iteration :   5200, Train reward: -100.0, Eval reward: -672.3857785628808, TD loss   : -1967547.0, Episode   :   5199\n",
      "Iteration :   5300, Train reward:  -90.0, Eval reward: -672.3857785628808, TD loss   : -2358069.75, Episode   :   5299\n",
      "Iteration :   5400, Train reward:  -90.0, Eval reward: -672.3857785628808, TD loss   : -3066173.0, Episode   :   5399\n",
      "Iteration :   5500, Train reward:  -90.0, Eval reward: -519.8259319195752, TD loss   : -2118307.25, Episode   :   5499\n",
      "Iteration :   5600, Train reward: -100.0, Eval reward: -519.8259319195752, TD loss   : -2600371.75, Episode   :   5599\n",
      "Iteration :   5700, Train reward: -100.0, Eval reward: -519.8259319195752, TD loss   : -3224587.25, Episode   :   5699\n",
      "Iteration :   5800, Train reward: -100.0, Eval reward: -519.8259319195752, TD loss   : -2276026.75, Episode   :   5799\n",
      "Iteration :   5900, Train reward: -100.0, Eval reward: -519.8259319195752, TD loss   : -2826091.25, Episode   :   5899\n",
      "Iteration :   6000, Train reward: -100.0, Eval reward: -574.3483668881107, TD loss   : -3293507.75, Episode   :   5999\n",
      "Iteration :   6100, Train reward: -100.0, Eval reward: -574.3483668881107, TD loss   : -2410521.0, Episode   :   6099\n",
      "Iteration :   6200, Train reward: -100.0, Eval reward: -574.3483668881107, TD loss   : -2603027.25, Episode   :   6199\n"
     ]
    },
    {
     "name": "stdout",
     "output_type": "stream",
     "text": [
      "Iteration :   6300, Train reward: -100.0, Eval reward: -574.3483668881107, TD loss   : -3261601.0, Episode   :   6299\n",
      "Iteration :   6400, Train reward: -100.0, Eval reward: -574.3483668881107, TD loss   : -2437523.75, Episode   :   6399\n",
      "Iteration :   6500, Train reward: -100.0, Eval reward: -617.5073470465811, TD loss   : -2957043.75, Episode   :   6499\n",
      "Iteration :   6600, Train reward: -100.0, Eval reward: -617.5073470465811, TD loss   : -3665046.75, Episode   :   6599\n",
      "Iteration :   6700, Train reward: -100.0, Eval reward: -617.5073470465811, TD loss   : -2689984.0, Episode   :   6699\n",
      "Iteration :   6800, Train reward: -100.0, Eval reward: -617.5073470465811, TD loss   : -3157625.25, Episode   :   6799\n",
      "Iteration :   6900, Train reward: -100.0, Eval reward: -617.5073470465811, TD loss   : -3683428.25, Episode   :   6899\n",
      "Iteration :   7000, Train reward: -100.0, Eval reward: -649.4569761497169, TD loss   : -2625905.0, Episode   :   6999\n",
      "Iteration :   7100, Train reward: -100.0, Eval reward: -649.4569761497169, TD loss   : -3381199.75, Episode   :   7099\n",
      "Iteration :   7200, Train reward: -100.0, Eval reward: -649.4569761497169, TD loss   : -3995078.5, Episode   :   7199\n",
      "Iteration :   7300, Train reward: -100.0, Eval reward: -649.4569761497169, TD loss   : -2779613.75, Episode   :   7299\n",
      "Iteration :   7400, Train reward: -100.0, Eval reward: -649.4569761497169, TD loss   : -3405697.25, Episode   :   7399\n",
      "Iteration :   7500, Train reward: -100.0, Eval reward: -554.5937455726607, TD loss   : -4193986.25, Episode   :   7499\n",
      "Iteration :   7600, Train reward: -100.0, Eval reward: -554.5937455726607, TD loss   : -3068531.0, Episode   :   7599\n",
      "Iteration :   7700, Train reward: -100.0, Eval reward: -554.5937455726607, TD loss   : -3524887.75, Episode   :   7699\n",
      "Iteration :   7800, Train reward: -100.0, Eval reward: -554.5937455726607, TD loss   : -4020516.75, Episode   :   7799\n",
      "Iteration :   7900, Train reward: -100.0, Eval reward: -554.5937455726607, TD loss   : -3247518.0, Episode   :   7899\n",
      "Iteration :   8000, Train reward: -100.0, Eval reward: -541.134244234788, TD loss   : -3760177.25, Episode   :   7999\n",
      "Iteration :   8100, Train reward: -100.0, Eval reward: -541.134244234788, TD loss   : -4233918.5, Episode   :   8099\n",
      "Iteration :   8200, Train reward: -100.0, Eval reward: -541.134244234788, TD loss   : -3053574.5, Episode   :   8199\n",
      "Iteration :   8300, Train reward: -100.0, Eval reward: -541.134244234788, TD loss   : -3789189.5, Episode   :   8299\n",
      "Iteration :   8400, Train reward: -100.0, Eval reward: -541.134244234788, TD loss   : -4272055.5, Episode   :   8399\n",
      "Iteration :   8500, Train reward: -100.0, Eval reward: -614.9995328881881, TD loss   : -3356418.25, Episode   :   8499\n",
      "Iteration :   8600, Train reward: -100.0, Eval reward: -614.9995328881881, TD loss   : -3956667.75, Episode   :   8599\n",
      "Iteration :   8700, Train reward: -100.0, Eval reward: -614.9995328881881, TD loss   : -4387342.5, Episode   :   8699\n",
      "Iteration :   8800, Train reward: -100.0, Eval reward: -614.9995328881881, TD loss   : -3406185.0, Episode   :   8799\n",
      "Iteration :   8900, Train reward: -100.0, Eval reward: -614.9995328881881, TD loss   : -4079160.75, Episode   :   8899\n",
      "Iteration :   9000, Train reward: -100.0, Eval reward: -627.8682973592074, TD loss   : -4807824.5, Episode   :   8999\n",
      "Iteration :   9100, Train reward: -100.0, Eval reward: -627.8682973592074, TD loss   : -3693835.0, Episode   :   9099\n",
      "Iteration :   9200, Train reward: -100.0, Eval reward: -627.8682973592074, TD loss   : -4551103.5, Episode   :   9199\n",
      "Iteration :   9300, Train reward: -100.0, Eval reward: -627.8682973592074, TD loss   : -4714801.0, Episode   :   9299\n",
      "Iteration :   9400, Train reward: -100.0, Eval reward: -627.8682973592074, TD loss   : -3855801.0, Episode   :   9399\n",
      "Iteration :   9500, Train reward: -100.0, Eval reward: -537.5646816411883, TD loss   : -4072131.25, Episode   :   9499\n",
      "Iteration :   9600, Train reward: -100.0, Eval reward: -537.5646816411883, TD loss   : -4578950.5, Episode   :   9599\n",
      "Iteration :   9700, Train reward: -100.0, Eval reward: -537.5646816411883, TD loss   : -3784071.75, Episode   :   9699\n",
      "Iteration :   9800, Train reward: -100.0, Eval reward: -537.5646816411883, TD loss   : -4542337.0, Episode   :   9799\n",
      "Iteration :   9900, Train reward: -100.0, Eval reward: -537.5646816411883, TD loss   : -5462459.0, Episode   :   9899\n",
      "Iteration :  10000, Train reward:  -90.0, Eval reward: -581.3856600736844, TD loss   : -4010450.25, Episode   :   9999\n"
     ]
    }
   ],
   "source": [
    "!python dqn/dqn/box2d.py --log_dir logs/vanilla-dqn --gamma 0.9 --n-iterations 10000 --seed 5555"
   ]
  },
  {
   "cell_type": "markdown",
   "metadata": {},
   "source": [
    "After you run the training script (box2d.py), the log file named \"progress.csv\" will be saved to the directory given by the ```log_dir``` argument. You can use the csv file to obtain a Pandas dataframe object and visualize the training."
   ]
  },
  {
   "cell_type": "markdown",
   "metadata": {},
   "source": [
    "#### Plotting\n",
    "\n",
    "When you are done with experiments, you can plot the statistics. We are interested to see how much variation exists in the training. So, run and plot for at least 5 different seeds. Plotter will handle the multi seed plotting and comparisons.\n",
    "\n",
    "Below is an example plot of two experiments each contains 3 different ```progress.csv``` files to demonstrate Plotter.\n",
    "\n",
    "You can switch axes using the dropdowns."
   ]
  },
  {
   "cell_type": "code",
   "execution_count": null,
   "metadata": {},
   "outputs": [],
   "source": [
    "from typing import Dict, List\n",
    "import os\n",
    "import pandas as pd\n",
    "\n",
    "from dqn.visualize import Plotter\n",
    "\n",
    "\n",
    "def collect_training_logs(log_dir: str) -> Dict[str, List[pd.DataFrame]]:\n",
    "    \"\"\" Obtain pandas frames from progress.csv files in the given directory \"\"\"\n",
    "    return [pd.read_csv(os.path.join(log_dir, folder, \"progress.csv\"))\n",
    "                        for folder in os.listdir(log_dir)\n",
    "                        if os.path.exists(os.path.join(log_dir, folder, \"progress.csv\"))]\n",
    "    \n",
    "\n",
    "\n",
    "df_dict = {\"gamma-0.90\": collect_training_logs(os.path.join(\"logs\", \"vanilla-dqn-gamma-0.90\")),\n",
    "           \"gamma-0.99\": collect_training_logs(os.path.join(\"logs\", \"vanilla-dqn-gamma-0.99\"))}\n",
    "plotter = Plotter(df_dict)\n",
    "plotter()\n"
   ]
  },
  {
   "cell_type": "markdown",
   "metadata": {},
   "source": [
    "### Implementation\n",
    "\n",
    "We start filling the source code with ``` dqn/base_dqn.py ```. This class serves as a base class for DQN agents (Vanilla DQN and Rainbow DQN).\n",
    "\n",
    "> Complete ``` greedy_policy ``` in ``` dqn/base_dqn.py ``` script\n",
    "\n",
    "> Complete ``` update_target ``` in ``` dqn/base_dqn.py ``` script\n",
    "\n",
    "\n",
    "> Complete ``` evaluate ``` in ``` dqn/base_dqn.py ``` script\n",
    "\n",
    "As you can see the target network is already initialized in the constructor of the base class. But we also need a replay buffer. The next part to complete is ``` dqn/replaybuffer/uniform.py ```. When we initiate the buffer, we allocate all the memory and then gradually push transitions. Here the capacity is fixed and the size of the buffer grows as we push transitions.\n",
    "\n",
    "> Complete ``` push ``` in ``` dqn/replaybuffer/uniform.py ``` script\n",
    "\n",
    "Remember, our replay buffer is a queue with FIFO behavior.\n",
    "\n",
    "> Complete ``` sample ``` in ``` dqn/replaybuffer/uniform.py ``` script\n",
    "\n",
    "Now we can complete DQN agent.\n",
    "\n",
    "> Complete ``` loss ``` in ``` dqn/dqn/model.py ```\n",
    "\n",
    "When we are done with DQN and replay buffer, we can start implementing trainer class. This class takes care of all the training.\n",
    "\n",
    "> Complete ``` update ``` in ``` dqn/dqn/train.py ```\n",
    "\n",
    "Update function updates the parameters (value and target networks). Also, append td error to the ```td_loss``` list\n",
    "\n",
    "Now we can complete``` __iter__ ``` method. This python special method returns a generator that yields a transition at every step for \"n_iterations\" steps (from ```args```). This is the method where we gather experience from the environment by following ```e_greedy_policy```. To see how we use ```__iter__``` method, please check the ```__call__``` method in the ```Trainer``` class. Additionally, append the episodic training reward if the environment is terminated. Step the epsilon here (comeback this point after next implementation)\n",
    "\n",
    "> Complete ``` __iter__ ``` in ``` dqn/dqn/train.py ```\n",
    "\n",
    "We bring every component necessary for training in the ``` __call__ ``` method. Which is already completed.\n",
    "\n",
    "Before starting the experiments, we need to implement annealing functions located at ``` dqn/common.py ```. Remember epsilon is a python **generator**.\n",
    "\n",
    "> Complete ``` linear_annealing ``` in ``` dqn/common.py ```\n",
    "\n",
    "> Complete ``` exponential_annealing ``` in ``` dqn/common.py ```\n",
    "\n",
    "When trainer is initialized, it selects epsilon annealing based on given ```args```. For example: If the ```epsilon-decay``` is given we use exponential decaying strategy. But if ```epsilon-range``` is given, it we use linear decay.\n",
    "\n",
    "Finally, we need to Q value network\n",
    "\n",
    "> Complete ``` ValueNet ``` in ``` dqn/dqn/box2d.py ```"
   ]
  },
  {
   "cell_type": "markdown",
   "metadata": {},
   "source": [
    "### Experiments\n",
    "\n",
    "We run our experiments in the \"Lunar Lander\" environment. A 200 reward score is considered the environment completely solved. At least a 100 reward score is required to gain points from your experiments. Let's see if two of the innovations introduced in the DQN paper make a difference. You can render evaluation episodes using ```--render``` CL argument.\n",
    "\n",
    "> Remember ```n-iterations``` and ```write-period``` must be fixed within each experiment for plotting purposes!\n",
    "In total, there must be 15 runs (5 for each).\n",
    "\n",
    "- Experiment **(run training 5 times)** DQN in Lunar Lander (default) environment with very small Replay Buffer and very frequent target updates (small value for ```target-update-period```)\n",
    "\n"
   ]
  },
  {
   "cell_type": "code",
   "execution_count": 1,
   "metadata": {
    "vscode": {
     "languageId": "shellscript"
    }
   },
   "outputs": [
    {
     "name": "stdout",
     "output_type": "stream",
     "text": [
      "/home/puren/miniconda3/envs/rlhw2/lib/python3.7/site-packages/gym/core.py:173: DeprecationWarning: \u001b[33mWARN: Function `env.seed(seed)` is marked as deprecated and will be removed in the future. Please use `env.reset(seed=seed) instead.\u001b[0m\n",
      "  \"Function `env.seed(seed)` is marked as deprecated and will be removed in the future. \"\n",
      "/home/puren/miniconda3/envs/rlhw2/lib/python3.7/site-packages/numpy/core/fromnumeric.py:3441: RuntimeWarning: Mean of empty slice.\n",
      "  out=out, **kwargs)\n",
      "/home/puren/miniconda3/envs/rlhw2/lib/python3.7/site-packages/numpy/core/_methods.py:189: RuntimeWarning: invalid value encountered in double_scalars\n",
      "  ret = ret.dtype.type(ret / rcount)\n",
      "Iteration :      0, Train reward:    nan, Eval reward: -1585.0421884094358, TD loss   :    nan, Episode   :      0\n",
      "Iteration :    100, Train reward: -100.0, Eval reward: -1585.0421884094358, TD loss   : 7102.7353515625, Episode   :     99\n",
      "Iteration :    200, Train reward: -100.0, Eval reward: -1585.0421884094358, TD loss   : 217.15322875976562, Episode   :    199\n",
      "Iteration :    300, Train reward: -100.0, Eval reward: -1585.0421884094358, TD loss   : 152.02838134765625, Episode   :    299\n",
      "Iteration :    400, Train reward: -100.0, Eval reward: -1585.0421884094358, TD loss   : 714.5037231445312, Episode   :    399\n",
      "Iteration :    500, Train reward: -100.0, Eval reward: -148.96857829196145, TD loss   : 30.144643783569336, Episode   :    499\n",
      "Iteration :    600, Train reward: -100.0, Eval reward: -148.96857829196145, TD loss   : 134.98423767089844, Episode   :    599\n",
      "Iteration :    700, Train reward: -100.0, Eval reward: -148.96857829196145, TD loss   : 549.4492797851562, Episode   :    699\n",
      "Iteration :    800, Train reward: -100.0, Eval reward: -148.96857829196145, TD loss   : 46.47395324707031, Episode   :    799\n",
      "Iteration :    900, Train reward: -100.0, Eval reward: -148.96857829196145, TD loss   : 138.8014678955078, Episode   :    899\n",
      "Iteration :   1000, Train reward: -100.0, Eval reward: -329.2387725498329, TD loss   : 613.6939086914062, Episode   :    999\n",
      "Iteration :   1100, Train reward: -100.0, Eval reward: -329.2387725498329, TD loss   : 937.7810668945312, Episode   :   1099\n",
      "Iteration :   1200, Train reward: -100.0, Eval reward: -329.2387725498329, TD loss   : 110.33809661865234, Episode   :   1199\n",
      "Iteration :   1300, Train reward: -100.0, Eval reward: -329.2387725498329, TD loss   : 671.6815795898438, Episode   :   1299\n",
      "Iteration :   1400, Train reward: -100.0, Eval reward: -329.2387725498329, TD loss   : 20.350608825683594, Episode   :   1399\n",
      "Iteration :   1500, Train reward: -100.0, Eval reward: -120.19904075732036, TD loss   : 98.44464874267578, Episode   :   1499\n",
      "Iteration :   1600, Train reward: -100.0, Eval reward: -120.19904075732036, TD loss   : 666.5321044921875, Episode   :   1599\n",
      "Iteration :   1700, Train reward: -100.0, Eval reward: -120.19904075732036, TD loss   : 200.43588256835938, Episode   :   1699\n",
      "Iteration :   1800, Train reward: -100.0, Eval reward: -120.19904075732036, TD loss   : 237.0087890625, Episode   :   1799\n",
      "Iteration :   1900, Train reward: -100.0, Eval reward: -120.19904075732036, TD loss   : 679.2890625, Episode   :   1899\n",
      "Iteration :   2000, Train reward: -100.0, Eval reward: -310.5839047527197, TD loss   : 69.97344970703125, Episode   :   1999\n",
      "Iteration :   2100, Train reward: -100.0, Eval reward: -310.5839047527197, TD loss   : 147.81793212890625, Episode   :   2099\n",
      "Iteration :   2200, Train reward: -100.0, Eval reward: -310.5839047527197, TD loss   : 513.204833984375, Episode   :   2199\n",
      "Iteration :   2300, Train reward: -100.0, Eval reward: -310.5839047527197, TD loss   : 39.743682861328125, Episode   :   2299\n",
      "Iteration :   2400, Train reward: -100.0, Eval reward: -310.5839047527197, TD loss   : 103.45494842529297, Episode   :   2399\n",
      "Iteration :   2500, Train reward: -100.0, Eval reward: -131.63999277647366, TD loss   : 486.2983703613281, Episode   :   2499\n",
      "Iteration :   2600, Train reward: -100.0, Eval reward: -131.63999277647366, TD loss   : 71.09870147705078, Episode   :   2599\n",
      "Iteration :   2700, Train reward: -100.0, Eval reward: -131.63999277647366, TD loss   : 175.29269409179688, Episode   :   2699\n",
      "Iteration :   2800, Train reward: -100.0, Eval reward: -131.63999277647366, TD loss   : 569.1968994140625, Episode   :   2799\n",
      "Iteration :   2900, Train reward: -100.0, Eval reward: -131.63999277647366, TD loss   : 105.12889862060547, Episode   :   2899\n",
      "Iteration :   3000, Train reward: -100.0, Eval reward: -356.12196366824315, TD loss   : 103.79952239990234, Episode   :   2999\n",
      "Iteration :   3100, Train reward: -100.0, Eval reward: -356.12196366824315, TD loss   : 789.743896484375, Episode   :   3099\n",
      "Iteration :   3200, Train reward: -100.0, Eval reward: -356.12196366824315, TD loss   : 148.69760131835938, Episode   :   3199\n",
      "Iteration :   3300, Train reward: -100.0, Eval reward: -356.12196366824315, TD loss   : 193.32093811035156, Episode   :   3299\n",
      "Iteration :   3400, Train reward: -100.0, Eval reward: -356.12196366824315, TD loss   : 477.7580871582031, Episode   :   3399\n",
      "Iteration :   3500, Train reward: -100.0, Eval reward: -133.57934310367577, TD loss   : 76.52613830566406, Episode   :   3499\n",
      "Iteration :   3600, Train reward: -100.0, Eval reward: -133.57934310367577, TD loss   : 814.4168701171875, Episode   :   3599\n",
      "Iteration :   3700, Train reward: -100.0, Eval reward: -133.57934310367577, TD loss   : 951.5548706054688, Episode   :   3699\n",
      "Iteration :   3800, Train reward: -100.0, Eval reward: -133.57934310367577, TD loss   : 503.07550048828125, Episode   :   3799\n",
      "Iteration :   3900, Train reward: -100.0, Eval reward: -133.57934310367577, TD loss   : 446.4144592285156, Episode   :   3899\n",
      "Iteration :   4000, Train reward: -100.0, Eval reward: -566.7320539249791, TD loss   : 893.8709106445312, Episode   :   3999\n",
      "Iteration :   4100, Train reward: -100.0, Eval reward: -566.7320539249791, TD loss   : 3765.748779296875, Episode   :   4099\n",
      "Iteration :   4200, Train reward: -100.0, Eval reward: -566.7320539249791, TD loss   : 391.3306579589844, Episode   :   4199\n",
      "Iteration :   4300, Train reward: -100.0, Eval reward: -566.7320539249791, TD loss   : 329.21929931640625, Episode   :   4299\n",
      "Iteration :   4400, Train reward: -100.0, Eval reward: -566.7320539249791, TD loss   : 59.08564376831055, Episode   :   4399\n",
      "Iteration :   4500, Train reward: -100.0, Eval reward: -131.60355520759842, TD loss   : 104.2206802368164, Episode   :   4499\n",
      "Iteration :   4600, Train reward: -100.0, Eval reward: -131.60355520759842, TD loss   : 2737.99072265625, Episode   :   4599\n",
      "Iteration :   4700, Train reward: -100.0, Eval reward: -131.60355520759842, TD loss   : 2997.337890625, Episode   :   4699\n",
      "Iteration :   4800, Train reward: -100.0, Eval reward: -131.60355520759842, TD loss   : 654.8707885742188, Episode   :   4799\n",
      "Iteration :   4900, Train reward: -100.0, Eval reward: -131.60355520759842, TD loss   : 2491.72021484375, Episode   :   4899\n",
      "Iteration :   5000, Train reward: -100.0, Eval reward: -135.41106113997938, TD loss   : 2276.79638671875, Episode   :   4999\n",
      "Iteration :   5100, Train reward: -100.0, Eval reward: -135.41106113997938, TD loss   : 3422.394775390625, Episode   :   5099\n",
      "Iteration :   5200, Train reward: -100.0, Eval reward: -135.41106113997938, TD loss   : 921.47900390625, Episode   :   5199\n",
      "Iteration :   5300, Train reward: -100.0, Eval reward: -135.41106113997938, TD loss   : 412.4434509277344, Episode   :   5299\n",
      "Iteration :   5400, Train reward: -100.0, Eval reward: -135.41106113997938, TD loss   : 342.4915771484375, Episode   :   5399\n",
      "Iteration :   5500, Train reward: -100.0, Eval reward: -609.1309216117365, TD loss   : 512.6488037109375, Episode   :   5499\n",
      "Iteration :   5600, Train reward: -100.0, Eval reward: -609.1309216117365, TD loss   : 262.8410339355469, Episode   :   5599\n",
      "Iteration :   5700, Train reward: -100.0, Eval reward: -609.1309216117365, TD loss   : 243.6147003173828, Episode   :   5699\n",
      "Iteration :   5800, Train reward: -100.0, Eval reward: -609.1309216117365, TD loss   : 588.9115600585938, Episode   :   5799\n",
      "Iteration :   5900, Train reward: -100.0, Eval reward: -609.1309216117365, TD loss   : 134.91966247558594, Episode   :   5899\n"
     ]
    },
    {
     "name": "stdout",
     "output_type": "stream",
     "text": [
      "Iteration :   6000, Train reward: -100.0, Eval reward: -466.6323630850301, TD loss   : 236.5296630859375, Episode   :   5999\n",
      "Iteration :   6100, Train reward: -100.0, Eval reward: -466.6323630850301, TD loss   : 1918.360107421875, Episode   :   6099\n",
      "Iteration :   6200, Train reward: -100.0, Eval reward: -466.6323630850301, TD loss   : 837.0924072265625, Episode   :   6199\n",
      "Iteration :   6300, Train reward: -100.0, Eval reward: -466.6323630850301, TD loss   : 356.4077453613281, Episode   :   6299\n",
      "Iteration :   6400, Train reward: -100.0, Eval reward: -466.6323630850301, TD loss   : 417.8105773925781, Episode   :   6399\n",
      "Iteration :   6500, Train reward: -100.0, Eval reward: -646.1754819225341, TD loss   : 49.21126937866211, Episode   :   6499\n",
      "Iteration :   6600, Train reward: -100.0, Eval reward: -646.1754819225341, TD loss   : 2048.062744140625, Episode   :   6599\n",
      "Iteration :   6700, Train reward: -100.0, Eval reward: -646.1754819225341, TD loss   : 1218.0826416015625, Episode   :   6699\n",
      "Iteration :   6800, Train reward: -100.0, Eval reward: -646.1754819225341, TD loss   : 3142.886474609375, Episode   :   6799\n",
      "Iteration :   6900, Train reward: -100.0, Eval reward: -646.1754819225341, TD loss   : 2361.421142578125, Episode   :   6899\n",
      "Iteration :   7000, Train reward: -100.0, Eval reward: -572.7094631214471, TD loss   : 4014.77978515625, Episode   :   6999\n",
      "Iteration :   7100, Train reward: -100.0, Eval reward: -572.7094631214471, TD loss   : 12501.4677734375, Episode   :   7099\n",
      "Iteration :   7200, Train reward: -100.0, Eval reward: -572.7094631214471, TD loss   : 6432.5654296875, Episode   :   7199\n",
      "Iteration :   7300, Train reward:  -90.0, Eval reward: -572.7094631214471, TD loss   : 2343.073974609375, Episode   :   7299\n",
      "Iteration :   7400, Train reward:  -80.0, Eval reward: -572.7094631214471, TD loss   : 1705.1168212890625, Episode   :   7399\n",
      "Iteration :   7500, Train reward:  -90.0, Eval reward: -522.686306012035, TD loss   : 1590.9139404296875, Episode   :   7499\n",
      "Iteration :   7600, Train reward: -100.0, Eval reward: -522.686306012035, TD loss   : 2862.294921875, Episode   :   7599\n",
      "Iteration :   7700, Train reward: -100.0, Eval reward: -522.686306012035, TD loss   : 1964.571533203125, Episode   :   7699\n",
      "Iteration :   7800, Train reward:  -90.0, Eval reward: -522.686306012035, TD loss   : 2053.47265625, Episode   :   7799\n",
      "Iteration :   7900, Train reward:  -80.0, Eval reward: -522.686306012035, TD loss   : 1576.55810546875, Episode   :   7899\n",
      "Iteration :   8000, Train reward:  -90.0, Eval reward: -136.10062197848225, TD loss   : 1627.0670166015625, Episode   :   7999\n",
      "Iteration :   8100, Train reward: -100.0, Eval reward: -136.10062197848225, TD loss   : 1428.537841796875, Episode   :   8099\n",
      "Iteration :   8200, Train reward: -100.0, Eval reward: -136.10062197848225, TD loss   : 510.4046630859375, Episode   :   8199\n",
      "Iteration :   8300, Train reward: -100.0, Eval reward: -136.10062197848225, TD loss   : 206.18177795410156, Episode   :   8299\n",
      "Iteration :   8400, Train reward: -100.0, Eval reward: -136.10062197848225, TD loss   : 219.37713623046875, Episode   :   8399\n",
      "Iteration :   8500, Train reward: -100.0, Eval reward: -131.16491466583665, TD loss   : 322.40740966796875, Episode   :   8499\n",
      "Iteration :   8600, Train reward: -100.0, Eval reward: -131.16491466583665, TD loss   : 124.37077331542969, Episode   :   8599\n",
      "Iteration :   8700, Train reward: -100.0, Eval reward: -131.16491466583665, TD loss   : 243.22177124023438, Episode   :   8699\n",
      "Iteration :   8800, Train reward: -100.0, Eval reward: -131.16491466583665, TD loss   : 472.3751525878906, Episode   :   8799\n",
      "Iteration :   8900, Train reward: -100.0, Eval reward: -131.16491466583665, TD loss   : 220.19329833984375, Episode   :   8899\n",
      "Iteration :   9000, Train reward: -100.0, Eval reward: -316.09301499751774, TD loss   : 231.57061767578125, Episode   :   8999\n",
      "Iteration :   9100, Train reward: -100.0, Eval reward: -316.09301499751774, TD loss   : 441.61785888671875, Episode   :   9099\n",
      "Iteration :   9200, Train reward: -100.0, Eval reward: -316.09301499751774, TD loss   : 14.259659767150879, Episode   :   9199\n",
      "Iteration :   9300, Train reward: -100.0, Eval reward: -316.09301499751774, TD loss   : 69.75820922851562, Episode   :   9299\n",
      "Iteration :   9400, Train reward: -100.0, Eval reward: -316.09301499751774, TD loss   : 298.5054626464844, Episode   :   9399\n",
      "Iteration :   9500, Train reward: -100.0, Eval reward: -875.6776575230867, TD loss   : 12.138099670410156, Episode   :   9499\n",
      "Iteration :   9600, Train reward: -100.0, Eval reward: -875.6776575230867, TD loss   : 708.3477172851562, Episode   :   9599\n",
      "Iteration :   9700, Train reward: -100.0, Eval reward: -875.6776575230867, TD loss   : 1003.2178955078125, Episode   :   9699\n",
      "Iteration :   9800, Train reward: -100.0, Eval reward: -875.6776575230867, TD loss   : 332.6142578125, Episode   :   9799\n",
      "Iteration :   9900, Train reward: -100.0, Eval reward: -875.6776575230867, TD loss   : 228.07228088378906, Episode   :   9899\n",
      "Iteration :  10000, Train reward: -100.0, Eval reward: -1011.8138955479778, TD loss   : 573.7265014648438, Episode   :   9999\n",
      "Iteration :  10100, Train reward: -100.0, Eval reward: -1011.8138955479778, TD loss   : 7174.43896484375, Episode   :  10099\n",
      "Iteration :  10200, Train reward: -100.0, Eval reward: -1011.8138955479778, TD loss   : 4424.57861328125, Episode   :  10199\n",
      "Iteration :  10300, Train reward: -100.0, Eval reward: -1011.8138955479778, TD loss   : 644.744384765625, Episode   :  10299\n",
      "Iteration :  10400, Train reward: -100.0, Eval reward: -1011.8138955479778, TD loss   : 264.01800537109375, Episode   :  10399\n",
      "Iteration :  10500, Train reward: -100.0, Eval reward: -341.2367745903495, TD loss   : 286.5837097167969, Episode   :  10499\n",
      "Iteration :  10600, Train reward: -100.0, Eval reward: -341.2367745903495, TD loss   : 2368.14404296875, Episode   :  10599\n",
      "Iteration :  10700, Train reward: -100.0, Eval reward: -341.2367745903495, TD loss   : 2045.328125, Episode   :  10699\n",
      "Iteration :  10800, Train reward: -100.0, Eval reward: -341.2367745903495, TD loss   : 2724.891357421875, Episode   :  10799\n",
      "Iteration :  10900, Train reward: -100.0, Eval reward: -341.2367745903495, TD loss   : 2711.0986328125, Episode   :  10899\n",
      "Iteration :  11000, Train reward: -100.0, Eval reward: -449.48444927562923, TD loss   : 2314.450439453125, Episode   :  10999\n",
      "Iteration :  11100, Train reward: -100.0, Eval reward: -449.48444927562923, TD loss   : 1245.69140625, Episode   :  11099\n",
      "Iteration :  11200, Train reward: -100.0, Eval reward: -449.48444927562923, TD loss   : 251.9351806640625, Episode   :  11199\n",
      "Iteration :  11300, Train reward: -100.0, Eval reward: -449.48444927562923, TD loss   : 24.76508140563965, Episode   :  11299\n",
      "Iteration :  11400, Train reward: -100.0, Eval reward: -449.48444927562923, TD loss   : 76.77595520019531, Episode   :  11399\n",
      "Iteration :  11500, Train reward: -100.0, Eval reward: -611.6239015623084, TD loss   : 259.6239013671875, Episode   :  11499\n",
      "Iteration :  11600, Train reward: -100.0, Eval reward: -611.6239015623084, TD loss   : 40.815155029296875, Episode   :  11599\n",
      "Iteration :  11700, Train reward: -100.0, Eval reward: -611.6239015623084, TD loss   : 170.57151794433594, Episode   :  11699\n",
      "Iteration :  11800, Train reward: -100.0, Eval reward: -611.6239015623084, TD loss   : 319.1473693847656, Episode   :  11799\n",
      "Iteration :  11900, Train reward: -100.0, Eval reward: -611.6239015623084, TD loss   : 118.63524627685547, Episode   :  11899\n",
      "Iteration :  12000, Train reward: -100.0, Eval reward: -624.5633476686178, TD loss   : 23.593366622924805, Episode   :  11999\n",
      "Iteration :  12100, Train reward: -100.0, Eval reward: -624.5633476686178, TD loss   : 4383.1259765625, Episode   :  12099\n",
      "Iteration :  12200, Train reward: -100.0, Eval reward: -624.5633476686178, TD loss   : 1908.3140869140625, Episode   :  12199\n",
      "Iteration :  12300, Train reward: -100.0, Eval reward: -624.5633476686178, TD loss   : 930.2457275390625, Episode   :  12299\n",
      "Iteration :  12400, Train reward: -100.0, Eval reward: -624.5633476686178, TD loss   : 433.8725280761719, Episode   :  12399\n",
      "Iteration :  12500, Train reward: -100.0, Eval reward: -896.9240412331567, TD loss   : 109.4825668334961, Episode   :  12499\n"
     ]
    },
    {
     "name": "stdout",
     "output_type": "stream",
     "text": [
      "Iteration :  12600, Train reward: -100.0, Eval reward: -896.9240412331567, TD loss   : 2760.225830078125, Episode   :  12599\n",
      "Iteration :  12700, Train reward: -100.0, Eval reward: -896.9240412331567, TD loss   : 2152.1435546875, Episode   :  12699\n",
      "Iteration :  12800, Train reward: -100.0, Eval reward: -896.9240412331567, TD loss   : 1079.1688232421875, Episode   :  12799\n",
      "Iteration :  12900, Train reward: -100.0, Eval reward: -896.9240412331567, TD loss   : 409.69451904296875, Episode   :  12899\n",
      "Iteration :  13000, Train reward: -100.0, Eval reward: -501.50745729099725, TD loss   : 297.04730224609375, Episode   :  12999\n",
      "Iteration :  13100, Train reward: -100.0, Eval reward: -501.50745729099725, TD loss   : 12374.56640625, Episode   :  13099\n",
      "Iteration :  13200, Train reward: -100.0, Eval reward: -501.50745729099725, TD loss   : 2810.2158203125, Episode   :  13199\n",
      "Iteration :  13300, Train reward: -100.0, Eval reward: -501.50745729099725, TD loss   : 1199.2498779296875, Episode   :  13299\n",
      "Iteration :  13400, Train reward: -100.0, Eval reward: -501.50745729099725, TD loss   : 283.9800720214844, Episode   :  13399\n",
      "Iteration :  13500, Train reward: -100.0, Eval reward: -236.11593734332536, TD loss   : 483.7121887207031, Episode   :  13499\n",
      "Iteration :  13600, Train reward: -100.0, Eval reward: -236.11593734332536, TD loss   : 1396.6573486328125, Episode   :  13599\n",
      "Iteration :  13700, Train reward: -100.0, Eval reward: -236.11593734332536, TD loss   : 2252.82177734375, Episode   :  13699\n",
      "Iteration :  13800, Train reward: -100.0, Eval reward: -236.11593734332536, TD loss   : 2965.391845703125, Episode   :  13799\n",
      "Iteration :  13900, Train reward: -100.0, Eval reward: -236.11593734332536, TD loss   : 2333.425537109375, Episode   :  13899\n",
      "Iteration :  14000, Train reward: -100.0, Eval reward: -554.0189548185323, TD loss   : 1995.5892333984375, Episode   :  13999\n",
      "Iteration :  14100, Train reward: -100.0, Eval reward: -554.0189548185323, TD loss   : 1098.1475830078125, Episode   :  14099\n",
      "Iteration :  14200, Train reward: -100.0, Eval reward: -554.0189548185323, TD loss   : 425.7120361328125, Episode   :  14199\n",
      "Iteration :  14300, Train reward: -100.0, Eval reward: -554.0189548185323, TD loss   : 144.2773895263672, Episode   :  14299\n",
      "Iteration :  14400, Train reward:  -90.0, Eval reward: -554.0189548185323, TD loss   : 193.59368896484375, Episode   :  14399\n",
      "Iteration :  14500, Train reward:  -80.0, Eval reward: -552.7516305612779, TD loss   : 899.3624877929688, Episode   :  14499\n",
      "Iteration :  14600, Train reward: -100.0, Eval reward: -552.7516305612779, TD loss   : 452.246826171875, Episode   :  14599\n",
      "Iteration :  14700, Train reward: -100.0, Eval reward: -552.7516305612779, TD loss   : 551.4154052734375, Episode   :  14699\n",
      "Iteration :  14800, Train reward: -100.0, Eval reward: -552.7516305612779, TD loss   : 791.7616577148438, Episode   :  14799\n",
      "Iteration :  14900, Train reward: -100.0, Eval reward: -552.7516305612779, TD loss   : 499.86749267578125, Episode   :  14899\n",
      "Iteration :  15000, Train reward: -100.0, Eval reward: -105.8298086474916, TD loss   : 336.5976867675781, Episode   :  14999\n",
      "Iteration :  15100, Train reward: -100.0, Eval reward: -105.8298086474916, TD loss   : 507.0895690917969, Episode   :  15099\n",
      "Iteration :  15200, Train reward: -100.0, Eval reward: -105.8298086474916, TD loss   : 310.4565734863281, Episode   :  15199\n",
      "Iteration :  15300, Train reward: -100.0, Eval reward: -105.8298086474916, TD loss   : 392.5576171875, Episode   :  15299\n",
      "Iteration :  15400, Train reward: -100.0, Eval reward: -105.8298086474916, TD loss   : 410.3243713378906, Episode   :  15399\n",
      "Iteration :  15500, Train reward: -100.0, Eval reward: -150.4087537934427, TD loss   : 201.8191375732422, Episode   :  15499\n",
      "Iteration :  15600, Train reward: -100.0, Eval reward: -150.4087537934427, TD loss   : 247.3773956298828, Episode   :  15599\n",
      "Iteration :  15700, Train reward: -100.0, Eval reward: -150.4087537934427, TD loss   : 314.85565185546875, Episode   :  15699\n",
      "Iteration :  15800, Train reward: -100.0, Eval reward: -150.4087537934427, TD loss   : 100.32683563232422, Episode   :  15799\n",
      "Iteration :  15900, Train reward: -100.0, Eval reward: -150.4087537934427, TD loss   : 126.01815795898438, Episode   :  15899\n",
      "Iteration :  16000, Train reward: -100.0, Eval reward: -234.55838570749432, TD loss   : 288.04742431640625, Episode   :  15999\n",
      "Iteration :  16100, Train reward: -100.0, Eval reward: -234.55838570749432, TD loss   : 139.12399291992188, Episode   :  16099\n",
      "Iteration :  16200, Train reward: -100.0, Eval reward: -234.55838570749432, TD loss   : 142.83966064453125, Episode   :  16199\n",
      "Iteration :  16300, Train reward: -100.0, Eval reward: -234.55838570749432, TD loss   : 290.34014892578125, Episode   :  16299\n",
      "Iteration :  16400, Train reward: -100.0, Eval reward: -234.55838570749432, TD loss   : 109.90463256835938, Episode   :  16399\n",
      "Iteration :  16500, Train reward: -100.0, Eval reward: -144.15674306035962, TD loss   : 110.07392883300781, Episode   :  16499\n",
      "Iteration :  16600, Train reward: -100.0, Eval reward: -144.15674306035962, TD loss   : 205.5107879638672, Episode   :  16599\n",
      "Iteration :  16700, Train reward: -100.0, Eval reward: -144.15674306035962, TD loss   : 48.62605285644531, Episode   :  16699\n",
      "Iteration :  16800, Train reward: -100.0, Eval reward: -144.15674306035962, TD loss   : 90.49606323242188, Episode   :  16799\n",
      "Iteration :  16900, Train reward: -100.0, Eval reward: -144.15674306035962, TD loss   : 211.35855102539062, Episode   :  16899\n",
      "Iteration :  17000, Train reward: -100.0, Eval reward: -125.44121063996074, TD loss   : 26.419532775878906, Episode   :  16999\n",
      "Iteration :  17100, Train reward: -100.0, Eval reward: -125.44121063996074, TD loss   : 94.31320190429688, Episode   :  17099\n",
      "Iteration :  17200, Train reward: -100.0, Eval reward: -125.44121063996074, TD loss   : 186.74790954589844, Episode   :  17199\n",
      "Iteration :  17300, Train reward: -100.0, Eval reward: -125.44121063996074, TD loss   : 29.543527603149414, Episode   :  17299\n",
      "Iteration :  17400, Train reward: -100.0, Eval reward: -125.44121063996074, TD loss   : 62.78042984008789, Episode   :  17399\n",
      "Iteration :  17500, Train reward: -100.0, Eval reward: -113.06669186104395, TD loss   : 204.4014892578125, Episode   :  17499\n",
      "Iteration :  17600, Train reward: -100.0, Eval reward: -113.06669186104395, TD loss   : 103.00927734375, Episode   :  17599\n",
      "Iteration :  17700, Train reward: -100.0, Eval reward: -113.06669186104395, TD loss   : 98.98667907714844, Episode   :  17699\n",
      "Iteration :  17800, Train reward: -100.0, Eval reward: -113.06669186104395, TD loss   : 185.09539794921875, Episode   :  17799\n",
      "Iteration :  17900, Train reward: -100.0, Eval reward: -113.06669186104395, TD loss   : 34.73073959350586, Episode   :  17899\n",
      "Iteration :  18000, Train reward: -100.0, Eval reward: -218.05341101393824, TD loss   : 39.50099182128906, Episode   :  17999\n",
      "Iteration :  18100, Train reward: -100.0, Eval reward: -218.05341101393824, TD loss   : 474.96343994140625, Episode   :  18099\n",
      "Iteration :  18200, Train reward: -100.0, Eval reward: -218.05341101393824, TD loss   : 174.8430633544922, Episode   :  18199\n",
      "Iteration :  18300, Train reward: -100.0, Eval reward: -218.05341101393824, TD loss   : 131.0726776123047, Episode   :  18299\n",
      "Iteration :  18400, Train reward: -100.0, Eval reward: -218.05341101393824, TD loss   : 192.8737335205078, Episode   :  18399\n",
      "Iteration :  18500, Train reward: -100.0, Eval reward: -230.8137724860888, TD loss   : 24.438535690307617, Episode   :  18499\n",
      "Iteration :  18600, Train reward: -100.0, Eval reward: -230.8137724860888, TD loss   : 92.80221557617188, Episode   :  18599\n",
      "Iteration :  18700, Train reward: -100.0, Eval reward: -230.8137724860888, TD loss   : 220.6343231201172, Episode   :  18699\n",
      "Iteration :  18800, Train reward: -100.0, Eval reward: -230.8137724860888, TD loss   : 127.26844024658203, Episode   :  18799\n",
      "Iteration :  18900, Train reward: -100.0, Eval reward: -230.8137724860888, TD loss   : 140.81008911132812, Episode   :  18899\n",
      "Iteration :  19000, Train reward: -100.0, Eval reward: -267.0196091711281, TD loss   : 373.482666015625, Episode   :  18999\n",
      "Iteration :  19100, Train reward: -100.0, Eval reward: -267.0196091711281, TD loss   : 1390.0504150390625, Episode   :  19099\n"
     ]
    },
    {
     "name": "stdout",
     "output_type": "stream",
     "text": [
      "Iteration :  19200, Train reward: -100.0, Eval reward: -267.0196091711281, TD loss   : 449.33331298828125, Episode   :  19199\n",
      "Iteration :  19300, Train reward: -100.0, Eval reward: -267.0196091711281, TD loss   : 176.33209228515625, Episode   :  19299\n",
      "Iteration :  19400, Train reward: -100.0, Eval reward: -267.0196091711281, TD loss   : 28.531076431274414, Episode   :  19399\n",
      "Iteration :  19500, Train reward: -100.0, Eval reward: -173.19060090013946, TD loss   : 51.93399429321289, Episode   :  19499\n",
      "Iteration :  19600, Train reward: -100.0, Eval reward: -173.19060090013946, TD loss   : 376.36578369140625, Episode   :  19599\n",
      "Iteration :  19700, Train reward: -100.0, Eval reward: -173.19060090013946, TD loss   : 55.11802291870117, Episode   :  19699\n",
      "Iteration :  19800, Train reward: -100.0, Eval reward: -173.19060090013946, TD loss   : 117.01922607421875, Episode   :  19799\n",
      "Iteration :  19900, Train reward: -100.0, Eval reward: -173.19060090013946, TD loss   : 231.6343536376953, Episode   :  19899\n",
      "Iteration :  20000, Train reward: -100.0, Eval reward: -604.6066411950429, TD loss   : 78.16133117675781, Episode   :  19999\n",
      "Iteration :  20100, Train reward: -100.0, Eval reward: -604.6066411950429, TD loss   : 69.28373718261719, Episode   :  20099\n",
      "Iteration :  20200, Train reward: -100.0, Eval reward: -604.6066411950429, TD loss   : 145.74380493164062, Episode   :  20199\n",
      "Iteration :  20300, Train reward: -100.0, Eval reward: -604.6066411950429, TD loss   : 4.335989475250244, Episode   :  20299\n",
      "Iteration :  20400, Train reward: -100.0, Eval reward: -604.6066411950429, TD loss   : 34.15948486328125, Episode   :  20399\n",
      "Iteration :  20500, Train reward: -100.0, Eval reward: -454.7603319824272, TD loss   : 138.18255615234375, Episode   :  20499\n",
      "Iteration :  20600, Train reward: -100.0, Eval reward: -454.7603319824272, TD loss   : 102.6429672241211, Episode   :  20599\n",
      "Iteration :  20700, Train reward: -100.0, Eval reward: -454.7603319824272, TD loss   : 380.4851989746094, Episode   :  20699\n",
      "Iteration :  20800, Train reward: -100.0, Eval reward: -454.7603319824272, TD loss   : 225.82518005371094, Episode   :  20799\n",
      "Iteration :  20900, Train reward: -100.0, Eval reward: -454.7603319824272, TD loss   : 252.54165649414062, Episode   :  20899\n",
      "Iteration :  21000, Train reward: -100.0, Eval reward: -1103.3149852907115, TD loss   : 159.2694854736328, Episode   :  20999\n",
      "Iteration :  21100, Train reward: -100.0, Eval reward: -1103.3149852907115, TD loss   : 101477.6484375, Episode   :  21099\n",
      "Iteration :  21200, Train reward: -100.0, Eval reward: -1103.3149852907115, TD loss   : 54672.88671875, Episode   :  21199\n",
      "Iteration :  21300, Train reward: -100.0, Eval reward: -1103.3149852907115, TD loss   : 30415.158203125, Episode   :  21299\n",
      "Iteration :  21400, Train reward: -100.0, Eval reward: -1103.3149852907115, TD loss   : 3937.10009765625, Episode   :  21399\n",
      "Iteration :  21500, Train reward: -100.0, Eval reward: -472.9288226019897, TD loss   : 2611.170166015625, Episode   :  21499\n",
      "Iteration :  21600, Train reward: -100.0, Eval reward: -472.9288226019897, TD loss   : 4487.626953125, Episode   :  21599\n",
      "Iteration :  21700, Train reward: -100.0, Eval reward: -472.9288226019897, TD loss   : 2112.698974609375, Episode   :  21699\n",
      "Iteration :  21800, Train reward: -100.0, Eval reward: -472.9288226019897, TD loss   : 1102.68115234375, Episode   :  21799\n",
      "Iteration :  21900, Train reward: -100.0, Eval reward: -472.9288226019897, TD loss   : 1685.3856201171875, Episode   :  21899\n",
      "Iteration :  22000, Train reward: -100.0, Eval reward: -589.6877860026723, TD loss   : 1253.5643310546875, Episode   :  21999\n",
      "Iteration :  22100, Train reward: -100.0, Eval reward: -589.6877860026723, TD loss   : 1172.8792724609375, Episode   :  22099\n",
      "Iteration :  22200, Train reward:  -90.0, Eval reward: -589.6877860026723, TD loss   : 1259.5711669921875, Episode   :  22199\n",
      "Iteration :  22300, Train reward:  -90.0, Eval reward: -589.6877860026723, TD loss   : 1649.6112060546875, Episode   :  22299\n",
      "Iteration :  22400, Train reward:  -90.0, Eval reward: -589.6877860026723, TD loss   : 1609.093017578125, Episode   :  22399\n",
      "Iteration :  22500, Train reward:  -90.0, Eval reward: -566.3111339668801, TD loss   : 2021.6348876953125, Episode   :  22499\n",
      "Iteration :  22600, Train reward: -100.0, Eval reward: -566.3111339668801, TD loss   : 1951.712646484375, Episode   :  22599\n",
      "Iteration :  22700, Train reward: -100.0, Eval reward: -566.3111339668801, TD loss   : 1749.4840087890625, Episode   :  22699\n",
      "Iteration :  22800, Train reward: -100.0, Eval reward: -566.3111339668801, TD loss   : 1364.654541015625, Episode   :  22799\n",
      "Iteration :  22900, Train reward: -100.0, Eval reward: -566.3111339668801, TD loss   : 1317.364990234375, Episode   :  22899\n",
      "Iteration :  23000, Train reward: -100.0, Eval reward: -585.6515653019039, TD loss   : 1251.04296875, Episode   :  22999\n",
      "Iteration :  23100, Train reward: -100.0, Eval reward: -585.6515653019039, TD loss   : 722.7027587890625, Episode   :  23099\n",
      "Iteration :  23200, Train reward: -100.0, Eval reward: -585.6515653019039, TD loss   : 253.32583618164062, Episode   :  23199\n",
      "Iteration :  23300, Train reward: -100.0, Eval reward: -585.6515653019039, TD loss   : 62.662662506103516, Episode   :  23299\n",
      "Iteration :  23400, Train reward: -100.0, Eval reward: -585.6515653019039, TD loss   : 87.03959655761719, Episode   :  23399\n",
      "Iteration :  23500, Train reward: -100.0, Eval reward: -502.09670180526547, TD loss   : 157.46514892578125, Episode   :  23499\n",
      "Iteration :  23600, Train reward: -100.0, Eval reward: -502.09670180526547, TD loss   : 66.43728637695312, Episode   :  23599\n",
      "Iteration :  23700, Train reward: -100.0, Eval reward: -502.09670180526547, TD loss   : 99.44624328613281, Episode   :  23699\n",
      "Iteration :  23800, Train reward: -100.0, Eval reward: -502.09670180526547, TD loss   : 177.16600036621094, Episode   :  23799\n",
      "Iteration :  23900, Train reward: -100.0, Eval reward: -502.09670180526547, TD loss   : 56.84318923950195, Episode   :  23899\n",
      "Iteration :  24000, Train reward: -100.0, Eval reward: -504.24354965566056, TD loss   : 61.4016227722168, Episode   :  23999\n",
      "Iteration :  24100, Train reward: -100.0, Eval reward: -504.24354965566056, TD loss   : 240.93687438964844, Episode   :  24099\n",
      "Iteration :  24200, Train reward: -100.0, Eval reward: -504.24354965566056, TD loss   : 57.932334899902344, Episode   :  24199\n",
      "Iteration :  24300, Train reward: -100.0, Eval reward: -504.24354965566056, TD loss   : 55.787078857421875, Episode   :  24299\n",
      "Iteration :  24400, Train reward: -100.0, Eval reward: -504.24354965566056, TD loss   : 121.81756591796875, Episode   :  24399\n",
      "Iteration :  24500, Train reward: -100.0, Eval reward: -548.2655205229328, TD loss   : 8.625907897949219, Episode   :  24499\n",
      "Iteration :  24600, Train reward: -100.0, Eval reward: -548.2655205229328, TD loss   : 49.89097595214844, Episode   :  24599\n",
      "Iteration :  24700, Train reward: -100.0, Eval reward: -548.2655205229328, TD loss   : 138.49722290039062, Episode   :  24699\n",
      "Iteration :  24800, Train reward: -100.0, Eval reward: -548.2655205229328, TD loss   : 147.27139282226562, Episode   :  24799\n",
      "Iteration :  24900, Train reward: -100.0, Eval reward: -548.2655205229328, TD loss   : 305.8397216796875, Episode   :  24899\n",
      "Iteration :  25000, Train reward: -100.0, Eval reward: -430.4192809086133, TD loss   : 306.12457275390625, Episode   :  24999\n",
      "Iteration :  25100, Train reward: -100.0, Eval reward: -430.4192809086133, TD loss   : 6691.86669921875, Episode   :  25099\n",
      "Iteration :  25200, Train reward: -100.0, Eval reward: -430.4192809086133, TD loss   : 1984.721923828125, Episode   :  25199\n",
      "Iteration :  25300, Train reward: -100.0, Eval reward: -430.4192809086133, TD loss   : 126.95358276367188, Episode   :  25299\n",
      "Iteration :  25400, Train reward: -100.0, Eval reward: -430.4192809086133, TD loss   : 15.297904968261719, Episode   :  25399\n",
      "Iteration :  25500, Train reward: -100.0, Eval reward: -488.66245512778926, TD loss   : 64.28793334960938, Episode   :  25499\n",
      "Iteration :  25600, Train reward: -100.0, Eval reward: -488.66245512778926, TD loss   : 300.7200927734375, Episode   :  25599\n",
      "Iteration :  25700, Train reward: -100.0, Eval reward: -488.66245512778926, TD loss   : 107.21017456054688, Episode   :  25699\n"
     ]
    },
    {
     "name": "stdout",
     "output_type": "stream",
     "text": [
      "Iteration :  25800, Train reward: -100.0, Eval reward: -488.66245512778926, TD loss   : 190.60316467285156, Episode   :  25799\n",
      "Iteration :  25900, Train reward: -100.0, Eval reward: -488.66245512778926, TD loss   : 175.46226501464844, Episode   :  25899\n",
      "Iteration :  26000, Train reward: -100.0, Eval reward: -528.977500479147, TD loss   : 69.6565170288086, Episode   :  25999\n",
      "Iteration :  26100, Train reward: -100.0, Eval reward: -528.977500479147, TD loss   : 37.26247787475586, Episode   :  26099\n",
      "Iteration :  26200, Train reward: -100.0, Eval reward: -528.977500479147, TD loss   : 107.41049194335938, Episode   :  26199\n",
      "Iteration :  26300, Train reward: -100.0, Eval reward: -528.977500479147, TD loss   : 2.5124130249023438, Episode   :  26299\n",
      "Iteration :  26400, Train reward: -100.0, Eval reward: -528.977500479147, TD loss   : 25.0368595123291, Episode   :  26399\n",
      "Iteration :  26500, Train reward: -100.0, Eval reward: -529.9175444515447, TD loss   : 107.53701782226562, Episode   :  26499\n",
      "Iteration :  26600, Train reward: -100.0, Eval reward: -529.9175444515447, TD loss   : 6.021383762359619, Episode   :  26599\n",
      "Iteration :  26700, Train reward: -100.0, Eval reward: -529.9175444515447, TD loss   : 26.86943817138672, Episode   :  26699\n",
      "Iteration :  26800, Train reward: -100.0, Eval reward: -529.9175444515447, TD loss   : 112.50004577636719, Episode   :  26799\n",
      "Iteration :  26900, Train reward: -100.0, Eval reward: -529.9175444515447, TD loss   : 4.998885154724121, Episode   :  26899\n",
      "Iteration :  27000, Train reward: -100.0, Eval reward: -523.4054930053514, TD loss   : 4.459372043609619, Episode   :  26999\n",
      "Iteration :  27100, Train reward: -100.0, Eval reward: -523.4054930053514, TD loss   : 102.07794189453125, Episode   :  27099\n",
      "Iteration :  27200, Train reward: -100.0, Eval reward: -523.4054930053514, TD loss   : 67.44200897216797, Episode   :  27199\n",
      "Iteration :  27300, Train reward: -100.0, Eval reward: -523.4054930053514, TD loss   : 118.34371185302734, Episode   :  27299\n",
      "Iteration :  27400, Train reward: -100.0, Eval reward: -523.4054930053514, TD loss   : 194.30064392089844, Episode   :  27399\n",
      "Iteration :  27500, Train reward: -100.0, Eval reward: -485.88839505410107, TD loss   : 531.1468505859375, Episode   :  27499\n",
      "Iteration :  27600, Train reward: -100.0, Eval reward: -485.88839505410107, TD loss   : 4041.0546875, Episode   :  27599\n",
      "Iteration :  27700, Train reward: -100.0, Eval reward: -485.88839505410107, TD loss   : 4820.083984375, Episode   :  27699\n",
      "Iteration :  27800, Train reward: -100.0, Eval reward: -485.88839505410107, TD loss   : 9442.099609375, Episode   :  27799\n",
      "Iteration :  27900, Train reward: -100.0, Eval reward: -485.88839505410107, TD loss   : 4397.81982421875, Episode   :  27899\n",
      "Iteration :  28000, Train reward: -100.0, Eval reward: -526.0610699048608, TD loss   : 4964.38427734375, Episode   :  27999\n",
      "Iteration :  28100, Train reward: -100.0, Eval reward: -526.0610699048608, TD loss   : 24004.341796875, Episode   :  28099\n",
      "Iteration :  28200, Train reward: -100.0, Eval reward: -526.0610699048608, TD loss   : 9909.9345703125, Episode   :  28199\n",
      "Iteration :  28300, Train reward: -100.0, Eval reward: -526.0610699048608, TD loss   : 2516.58447265625, Episode   :  28299\n",
      "Iteration :  28400, Train reward: -100.0, Eval reward: -526.0610699048608, TD loss   : 1387.7427978515625, Episode   :  28399\n",
      "Iteration :  28500, Train reward: -100.0, Eval reward: -147.26626542243244, TD loss   : 875.1336669921875, Episode   :  28499\n",
      "Iteration :  28600, Train reward: -100.0, Eval reward: -147.26626542243244, TD loss   : 28754.029296875, Episode   :  28599\n",
      "Iteration :  28700, Train reward: -100.0, Eval reward: -147.26626542243244, TD loss   : 23708.662109375, Episode   :  28699\n",
      "Iteration :  28800, Train reward: -100.0, Eval reward: -147.26626542243244, TD loss   : 15868.3984375, Episode   :  28799\n",
      "Iteration :  28900, Train reward: -100.0, Eval reward: -147.26626542243244, TD loss   : 16387.080078125, Episode   :  28899\n",
      "Iteration :  29000, Train reward: -100.0, Eval reward: -300.00625675601435, TD loss   : 616.971923828125, Episode   :  28999\n",
      "Iteration :  29100, Train reward: -100.0, Eval reward: -300.00625675601435, TD loss   : 1931.65087890625, Episode   :  29099\n",
      "Iteration :  29200, Train reward: -100.0, Eval reward: -300.00625675601435, TD loss   : 711.6773681640625, Episode   :  29199\n",
      "Iteration :  29300, Train reward: -100.0, Eval reward: -300.00625675601435, TD loss   : 453.9088134765625, Episode   :  29299\n",
      "Iteration :  29400, Train reward: -100.0, Eval reward: -300.00625675601435, TD loss   : 591.6410522460938, Episode   :  29399\n",
      "Iteration :  29500, Train reward: -100.0, Eval reward: -158.98634039004043, TD loss   : 1014.631591796875, Episode   :  29499\n",
      "Iteration :  29600, Train reward: -100.0, Eval reward: -158.98634039004043, TD loss   : 491222.46875, Episode   :  29599\n",
      "Iteration :  29700, Train reward: -100.0, Eval reward: -158.98634039004043, TD loss   : 178743.859375, Episode   :  29699\n",
      "Iteration :  29800, Train reward: -100.0, Eval reward: -158.98634039004043, TD loss   : 153840.5, Episode   :  29799\n",
      "Iteration :  29900, Train reward: -100.0, Eval reward: -158.98634039004043, TD loss   : 222463.6875, Episode   :  29899\n",
      "Iteration :  30000, Train reward: -100.0, Eval reward: -132.0111256688643, TD loss   : 218096.4375, Episode   :  29999\n",
      "Iteration :  30100, Train reward: -100.0, Eval reward: -132.0111256688643, TD loss   : 37521.859375, Episode   :  30099\n",
      "Iteration :  30200, Train reward: -100.0, Eval reward: -132.0111256688643, TD loss   : 407.4541931152344, Episode   :  30199\n",
      "Iteration :  30300, Train reward: -100.0, Eval reward: -132.0111256688643, TD loss   : 394.9486999511719, Episode   :  30299\n",
      "Iteration :  30400, Train reward: -100.0, Eval reward: -132.0111256688643, TD loss   : 323.28643798828125, Episode   :  30399\n",
      "Iteration :  30500, Train reward: -100.0, Eval reward: -210.45888606652633, TD loss   : 281.6234130859375, Episode   :  30499\n",
      "Iteration :  30600, Train reward: -100.0, Eval reward: -210.45888606652633, TD loss   : 659.0626831054688, Episode   :  30599\n",
      "Iteration :  30700, Train reward: -100.0, Eval reward: -210.45888606652633, TD loss   : 1006.1366577148438, Episode   :  30699\n",
      "Iteration :  30800, Train reward: -100.0, Eval reward: -210.45888606652633, TD loss   : 516.50927734375, Episode   :  30799\n",
      "Iteration :  30900, Train reward: -100.0, Eval reward: -210.45888606652633, TD loss   : 558.0923461914062, Episode   :  30899\n",
      "Iteration :  31000, Train reward: -100.0, Eval reward: -456.20255999456515, TD loss   : 647.322021484375, Episode   :  30999\n",
      "Iteration :  31100, Train reward: -100.0, Eval reward: -456.20255999456515, TD loss   : 2444.00634765625, Episode   :  31099\n",
      "Iteration :  31200, Train reward: -100.0, Eval reward: -456.20255999456515, TD loss   : 1878.020751953125, Episode   :  31199\n",
      "Iteration :  31300, Train reward: -100.0, Eval reward: -456.20255999456515, TD loss   : 1437.2857666015625, Episode   :  31299\n",
      "Iteration :  31400, Train reward: -100.0, Eval reward: -456.20255999456515, TD loss   : 1433.4129638671875, Episode   :  31399\n",
      "Iteration :  31500, Train reward: -100.0, Eval reward: -113.8847085652692, TD loss   : 1026.311279296875, Episode   :  31499\n",
      "Iteration :  31600, Train reward: -100.0, Eval reward: -113.8847085652692, TD loss   : 3907.431640625, Episode   :  31599\n",
      "Iteration :  31700, Train reward: -100.0, Eval reward: -113.8847085652692, TD loss   : 3629.20947265625, Episode   :  31699\n",
      "Iteration :  31800, Train reward: -100.0, Eval reward: -113.8847085652692, TD loss   : 3362.109130859375, Episode   :  31799\n",
      "Iteration :  31900, Train reward: -100.0, Eval reward: -113.8847085652692, TD loss   : 2229.3857421875, Episode   :  31899\n",
      "Iteration :  32000, Train reward: -100.0, Eval reward: -126.8330594406048, TD loss   : 4169.19873046875, Episode   :  31999\n",
      "Iteration :  32100, Train reward: -100.0, Eval reward: -126.8330594406048, TD loss   : 1733.799560546875, Episode   :  32099\n",
      "Iteration :  32200, Train reward: -100.0, Eval reward: -126.8330594406048, TD loss   : 95.93196105957031, Episode   :  32199\n",
      "Iteration :  32300, Train reward: -100.0, Eval reward: -126.8330594406048, TD loss   : 56.08323287963867, Episode   :  32299\n"
     ]
    },
    {
     "name": "stdout",
     "output_type": "stream",
     "text": [
      "Iteration :  32400, Train reward: -100.0, Eval reward: -126.8330594406048, TD loss   : 61.381187438964844, Episode   :  32399\n",
      "Iteration :  32500, Train reward: -100.0, Eval reward: -261.14950225459563, TD loss   : 80.53849792480469, Episode   :  32499\n",
      "Iteration :  32600, Train reward: -100.0, Eval reward: -261.14950225459563, TD loss   : 604.8809204101562, Episode   :  32599\n",
      "Iteration :  32700, Train reward: -100.0, Eval reward: -261.14950225459563, TD loss   : 670.1544799804688, Episode   :  32699\n",
      "Iteration :  32800, Train reward:  -70.0, Eval reward: -261.14950225459563, TD loss   : 550.989013671875, Episode   :  32799\n",
      "Iteration :  32900, Train reward:  -90.0, Eval reward: -261.14950225459563, TD loss   : 780.8648681640625, Episode   :  32899\n",
      "Iteration :  33000, Train reward:  -90.0, Eval reward: -370.7519941950739, TD loss   : 1093.9705810546875, Episode   :  32999\n",
      "Iteration :  33100, Train reward:  -90.0, Eval reward: -370.7519941950739, TD loss   : 559.4736938476562, Episode   :  33099\n",
      "Iteration :  33200, Train reward:  -90.0, Eval reward: -370.7519941950739, TD loss   : 865.73095703125, Episode   :  33199\n",
      "Iteration :  33300, Train reward:  -90.0, Eval reward: -370.7519941950739, TD loss   : 1677.00634765625, Episode   :  33299\n",
      "Iteration :  33400, Train reward:  -90.0, Eval reward: -370.7519941950739, TD loss   : 1553.1658935546875, Episode   :  33399\n",
      "Iteration :  33500, Train reward:  -90.0, Eval reward: -742.8275062604412, TD loss   : 1731.760498046875, Episode   :  33499\n",
      "Iteration :  33600, Train reward: -100.0, Eval reward: -742.8275062604412, TD loss   : 2897.200927734375, Episode   :  33599\n",
      "Iteration :  33700, Train reward: -100.0, Eval reward: -742.8275062604412, TD loss   : 2426.495361328125, Episode   :  33699\n",
      "Iteration :  33800, Train reward: -100.0, Eval reward: -742.8275062604412, TD loss   : 1989.6368408203125, Episode   :  33799\n",
      "Iteration :  33900, Train reward: -100.0, Eval reward: -742.8275062604412, TD loss   : 2798.85400390625, Episode   :  33899\n",
      "Iteration :  34000, Train reward: -100.0, Eval reward: -977.4413983305103, TD loss   : 2956.07177734375, Episode   :  33999\n",
      "Iteration :  34100, Train reward: -100.0, Eval reward: -977.4413983305103, TD loss   : 85769.6796875, Episode   :  34099\n",
      "Iteration :  34200, Train reward: -100.0, Eval reward: -977.4413983305103, TD loss   : 30214.171875, Episode   :  34199\n",
      "Iteration :  34300, Train reward: -100.0, Eval reward: -977.4413983305103, TD loss   : 9533.8828125, Episode   :  34299\n",
      "Iteration :  34400, Train reward: -100.0, Eval reward: -977.4413983305103, TD loss   : 2786.315673828125, Episode   :  34399\n",
      "Iteration :  34500, Train reward: -100.0, Eval reward: -629.823516076571, TD loss   : 3734.694091796875, Episode   :  34499\n",
      "Iteration :  34600, Train reward: -100.0, Eval reward: -629.823516076571, TD loss   : 3977.791015625, Episode   :  34599\n",
      "Iteration :  34700, Train reward: -100.0, Eval reward: -629.823516076571, TD loss   : 1601.6268310546875, Episode   :  34699\n",
      "Iteration :  34800, Train reward: -100.0, Eval reward: -629.823516076571, TD loss   : 1013.1049194335938, Episode   :  34799\n",
      "Iteration :  34900, Train reward: -100.0, Eval reward: -629.823516076571, TD loss   : 1490.7626953125, Episode   :  34899\n",
      "Iteration :  35000, Train reward: -100.0, Eval reward: -853.3319161960701, TD loss   : 870.3837280273438, Episode   :  34999\n",
      "Iteration :  35100, Train reward: -100.0, Eval reward: -853.3319161960701, TD loss   : 25349.953125, Episode   :  35099\n",
      "Iteration :  35200, Train reward: -100.0, Eval reward: -853.3319161960701, TD loss   : 7011.86328125, Episode   :  35199\n",
      "Iteration :  35300, Train reward: -100.0, Eval reward: -853.3319161960701, TD loss   : 2917.57470703125, Episode   :  35299\n",
      "Iteration :  35400, Train reward: -100.0, Eval reward: -853.3319161960701, TD loss   : 2221.164794921875, Episode   :  35399\n",
      "Iteration :  35500, Train reward: -100.0, Eval reward: -575.6485122746265, TD loss   : 957.3217163085938, Episode   :  35499\n",
      "Iteration :  35600, Train reward: -100.0, Eval reward: -575.6485122746265, TD loss   : 6082.94140625, Episode   :  35599\n",
      "Iteration :  35700, Train reward: -100.0, Eval reward: -575.6485122746265, TD loss   : 2814.8134765625, Episode   :  35699\n",
      "Iteration :  35800, Train reward: -100.0, Eval reward: -575.6485122746265, TD loss   : 1792.7752685546875, Episode   :  35799\n",
      "Iteration :  35900, Train reward: -100.0, Eval reward: -575.6485122746265, TD loss   : 3241.381591796875, Episode   :  35899\n",
      "Iteration :  36000, Train reward: -100.0, Eval reward: -602.8510780061467, TD loss   : 3994.407470703125, Episode   :  35999\n",
      "Iteration :  36100, Train reward: -100.0, Eval reward: -602.8510780061467, TD loss   : 49620.9609375, Episode   :  36099\n",
      "Iteration :  36200, Train reward: -100.0, Eval reward: -602.8510780061467, TD loss   : 16799.94921875, Episode   :  36199\n",
      "Iteration :  36300, Train reward: -100.0, Eval reward: -602.8510780061467, TD loss   : 6573.3564453125, Episode   :  36299\n",
      "Iteration :  36400, Train reward: -100.0, Eval reward: -602.8510780061467, TD loss   : 2180.7802734375, Episode   :  36399\n",
      "Iteration :  36500, Train reward: -100.0, Eval reward: -154.68884829056532, TD loss   : 1436.8795166015625, Episode   :  36499\n",
      "Iteration :  36600, Train reward: -100.0, Eval reward: -154.68884829056532, TD loss   : 1563.40869140625, Episode   :  36599\n",
      "Iteration :  36700, Train reward: -100.0, Eval reward: -154.68884829056532, TD loss   : 3242.842529296875, Episode   :  36699\n",
      "Iteration :  36800, Train reward: -100.0, Eval reward: -154.68884829056532, TD loss   : 4961.31884765625, Episode   :  36799\n",
      "Iteration :  36900, Train reward: -100.0, Eval reward: -154.68884829056532, TD loss   : 3136.803466796875, Episode   :  36899\n",
      "Iteration :  37000, Train reward: -100.0, Eval reward: -552.9240444658072, TD loss   : 3453.087158203125, Episode   :  36999\n",
      "Iteration :  37100, Train reward: -100.0, Eval reward: -552.9240444658072, TD loss   : 99292.2109375, Episode   :  37099\n",
      "Iteration :  37200, Train reward: -100.0, Eval reward: -552.9240444658072, TD loss   : 53353.828125, Episode   :  37199\n",
      "Iteration :  37300, Train reward: -100.0, Eval reward: -552.9240444658072, TD loss   : 7827.7880859375, Episode   :  37299\n",
      "Iteration :  37400, Train reward: -100.0, Eval reward: -552.9240444658072, TD loss   : 7461.40869140625, Episode   :  37399\n",
      "Iteration :  37500, Train reward: -100.0, Eval reward: -566.8582458281222, TD loss   : 5503.6435546875, Episode   :  37499\n",
      "Iteration :  37600, Train reward: -100.0, Eval reward: -566.8582458281222, TD loss   : 4589.78271484375, Episode   :  37599\n",
      "Iteration :  37700, Train reward: -100.0, Eval reward: -566.8582458281222, TD loss   : 2714.30322265625, Episode   :  37699\n",
      "Iteration :  37800, Train reward: -100.0, Eval reward: -566.8582458281222, TD loss   : 3154.138671875, Episode   :  37799\n",
      "Iteration :  37900, Train reward: -100.0, Eval reward: -566.8582458281222, TD loss   : 5101.06201171875, Episode   :  37899\n",
      "Iteration :  38000, Train reward: -100.0, Eval reward: -934.9440740635495, TD loss   : 1759.173095703125, Episode   :  37999\n",
      "Iteration :  38100, Train reward: -100.0, Eval reward: -934.9440740635495, TD loss   : 2456.2255859375, Episode   :  38099\n",
      "Iteration :  38200, Train reward: -100.0, Eval reward: -934.9440740635495, TD loss   : 2656.502197265625, Episode   :  38199\n",
      "Iteration :  38300, Train reward: -100.0, Eval reward: -934.9440740635495, TD loss   : 325.010009765625, Episode   :  38299\n",
      "Iteration :  38400, Train reward: -100.0, Eval reward: -934.9440740635495, TD loss   : 606.739990234375, Episode   :  38399\n",
      "Iteration :  38500, Train reward: -100.0, Eval reward: -1340.6702751590315, TD loss   : 969.634765625, Episode   :  38499\n",
      "Iteration :  38600, Train reward: -100.0, Eval reward: -1340.6702751590315, TD loss   : 257922.140625, Episode   :  38599\n",
      "Iteration :  38700, Train reward: -100.0, Eval reward: -1340.6702751590315, TD loss   : 339455.90625, Episode   :  38699\n",
      "Iteration :  38800, Train reward: -100.0, Eval reward: -1340.6702751590315, TD loss   : 338347.53125, Episode   :  38799\n",
      "Iteration :  38900, Train reward: -100.0, Eval reward: -1340.6702751590315, TD loss   : 171341.40625, Episode   :  38899\n",
      "Iteration :  39000, Train reward: -100.0, Eval reward: -261.926169035206, TD loss   : 112469.7109375, Episode   :  38999\n"
     ]
    },
    {
     "name": "stdout",
     "output_type": "stream",
     "text": [
      "Iteration :  39100, Train reward: -100.0, Eval reward: -261.926169035206, TD loss   : 990753.625, Episode   :  39099\n",
      "Iteration :  39200, Train reward: -100.0, Eval reward: -261.926169035206, TD loss   : 478017.15625, Episode   :  39199\n",
      "Iteration :  39300, Train reward: -100.0, Eval reward: -261.926169035206, TD loss   : 294130.59375, Episode   :  39299\n",
      "Iteration :  39400, Train reward: -100.0, Eval reward: -261.926169035206, TD loss   : 41165.26171875, Episode   :  39399\n",
      "Iteration :  39500, Train reward: -100.0, Eval reward: -616.9979904232603, TD loss   : 43686.84375, Episode   :  39499\n",
      "Iteration :  39600, Train reward: -100.0, Eval reward: -616.9979904232603, TD loss   : 47221.8046875, Episode   :  39599\n",
      "Iteration :  39700, Train reward: -100.0, Eval reward: -616.9979904232603, TD loss   : 30483.79296875, Episode   :  39699\n",
      "Iteration :  39800, Train reward:  -80.0, Eval reward: -616.9979904232603, TD loss   : 19709.94921875, Episode   :  39799\n",
      "Iteration :  39900, Train reward:  -90.0, Eval reward: -616.9979904232603, TD loss   : 10131.2666015625, Episode   :  39899\n",
      "Iteration :  40000, Train reward:  -80.0, Eval reward: -442.31131294297774, TD loss   : 12902.388671875, Episode   :  39999\n"
     ]
    }
   ],
   "source": [
    "!python dqn/dqn/box2d.py --log_dir logs/vanilla-dqn-exp1 --target-update-period 300 --buffer-capacity 1000 --max-episode-len 300 --epsilon-decay 0.999 --epsilon-init 0.99 --batch-size 32"
   ]
  },
  {
   "cell_type": "code",
   "execution_count": 105,
   "metadata": {},
   "outputs": [
    {
     "ename": "NameError",
     "evalue": "name 'collect_training_logs' is not defined",
     "output_type": "error",
     "traceback": [
      "\u001b[0;31m---------------------------------------------------------------------------\u001b[0m",
      "\u001b[0;31mNameError\u001b[0m                                 Traceback (most recent call last)",
      "\u001b[0;32m/tmp/ipykernel_50437/958251985.py\u001b[0m in \u001b[0;36m<module>\u001b[0;34m\u001b[0m\n\u001b[1;32m      1\u001b[0m \u001b[0;32mimport\u001b[0m \u001b[0mos\u001b[0m\u001b[0;34m\u001b[0m\u001b[0;34m\u001b[0m\u001b[0m\n\u001b[1;32m      2\u001b[0m \u001b[0mlog_dir\u001b[0m \u001b[0;34m=\u001b[0m \u001b[0mos\u001b[0m\u001b[0;34m.\u001b[0m\u001b[0mpath\u001b[0m\u001b[0;34m.\u001b[0m\u001b[0mjoin\u001b[0m\u001b[0;34m(\u001b[0m\u001b[0;34m\"logs\"\u001b[0m\u001b[0;34m,\u001b[0m \u001b[0;34m\"vanilla-dqn-exp1\"\u001b[0m\u001b[0;34m)\u001b[0m\u001b[0;34m\u001b[0m\u001b[0;34m\u001b[0m\u001b[0m\n\u001b[0;32m----> 3\u001b[0;31m \u001b[0mexp_1_dataframes\u001b[0m \u001b[0;34m=\u001b[0m \u001b[0mcollect_training_logs\u001b[0m\u001b[0;34m(\u001b[0m\u001b[0mlog_dir\u001b[0m\u001b[0;34m)\u001b[0m\u001b[0;34m\u001b[0m\u001b[0;34m\u001b[0m\u001b[0m\n\u001b[0m",
      "\u001b[0;31mNameError\u001b[0m: name 'collect_training_logs' is not defined"
     ]
    }
   ],
   "source": [
    "import os\n",
    "log_dir = os.path.join(\"logs\", \"vanilla-dqn-exp1\")\n",
    "exp_1_dataframes = collect_training_logs(log_dir)"
   ]
  },
  {
   "cell_type": "markdown",
   "metadata": {},
   "source": [
    "- Experiment DQN in Lunar Lander with large Replay Buffer and target update period.\n",
    "\n"
   ]
  },
  {
   "cell_type": "code",
   "execution_count": null,
   "metadata": {
    "vscode": {
     "languageId": "shellscript"
    }
   },
   "outputs": [],
   "source": [
    "!python dqn/dqn/box2d.py --log_dir logs/vanilla-dqn-exp2 --target-update-period ? --buffer-capacity ?"
   ]
  },
  {
   "cell_type": "code",
   "execution_count": null,
   "metadata": {},
   "outputs": [],
   "source": [
    "log_dir = os.path.join(\"logs\", \"vanilla-dqn-exp2\")\n",
    "exp_2_dataframes = collect_training_logs(log_dir)\n"
   ]
  },
  {
   "cell_type": "markdown",
   "metadata": {},
   "source": [
    "- Experiment DQN with exponential decaying epsilon strategy.\n",
    "\n"
   ]
  },
  {
   "cell_type": "code",
   "execution_count": null,
   "metadata": {
    "vscode": {
     "languageId": "shellscript"
    }
   },
   "outputs": [],
   "source": [
    "!python dqn/dqn/box2d.py --log_dir logs/vanilla-dqn-exp3 --target-update-period ? --buffer-capacity ? --epsilon-decay ?"
   ]
  },
  {
   "cell_type": "code",
   "execution_count": null,
   "metadata": {},
   "outputs": [],
   "source": [
    "log_dir = os.path.join(\"logs\", \"vanilla-dqn-exp3\")\n",
    "exp_3_dataframes = collect_training_logs(log_dir)"
   ]
  },
  {
   "cell_type": "markdown",
   "metadata": {},
   "source": [
    "Remaining hyperparameters must be tuned and fixed. First two experiments may use linear decaying.\n",
    "\n",
    "Obtain Pandas dataframes (15 in total) and plot the results using the given Plotter class."
   ]
  },
  {
   "cell_type": "code",
   "execution_count": null,
   "metadata": {},
   "outputs": [],
   "source": [
    "Plotter({\"primitive_dqn\": exp_1_dataframes, \"stable_dqn\": exp_2_dataframes, \"exp_decay_dqn\": exp_3_dataframes})()"
   ]
  },
  {
   "cell_type": "markdown",
   "metadata": {},
   "source": [
    "<h1 style=\"margin-top: 0px;\n",
    "  margin-bottom: 10px;\n",
    "  font-family: sans-serif;\n",
    "  font-size: 8rem;\">\n",
    "<span style=\"color:#FF0000\">R</span><span style=\"color:#FFDB00\">a</span><span style=\"color:#49FF00\">i</span><span style=\"color:#00FF92\">n</span><span style=\"color:#0092FF\">b</span><span style=\"color:#4900FF\">o</span><span style=\"color:#FF00DB\">w</span>\n",
    "</h1>\n",
    "\n",
    "We use DQN as a base class for our implementation. Rainbow introduces a few extensions over vanilla DQN. Each of these extensions can be disabled in our implementation. We will test the Rainbow agent in both Lunar Lander and Pong.\n",
    "\n",
    "> **Read** the related paper or the book section before moving to implementation.\n",
    "\n",
    "### Implementation\n",
    "\n",
    "Before implementing extensions we need to have a bare minimum DQN so that you can test your extension independently. We feed ```extensions``` dictionary to Rainbow agent. The dictionary contains information related to extensions that we want to use in RAINBOW agent. You can see the definition of ```extensions``` dictionary in ```dqn/rainbow/box2d.py```.\n",
    "\n",
    "Luckly, we already have a \"vanilla\" DQN to start with. We only need to complete a few parts to run vanilla DQN (one that has no extension) in rainbow agent. \n",
    "\n",
    "> Complete ```ValueNet``` in ```dqn/rainbow/box2d.py```. Ignore the ```extensions``` dictionary for now.\n",
    "\n",
    "Most of the methods use inherited functions from DQN section. However, as you implement the extensions you will need to replace them with their extension based versions.\n"
   ]
  },
  {
   "cell_type": "code",
   "execution_count": null,
   "metadata": {
    "vscode": {
     "languageId": "shellscript"
    }
   },
   "outputs": [],
   "source": [
    "!python dqn/rainbow/box2d.py --n-iterations 5000 --no-double --no-dueling --no-noisy --no-prioritized --n-steps 1 --no-dist"
   ]
  },
  {
   "cell_type": "markdown",
   "metadata": {},
   "source": [
    "\n",
    "\n",
    "#### Prioritized Buffer\n",
    "Let's start with Prioritized Replay Buffer. To start implementing this buffer we need weighted sampling. NumPy has ```np.random.choice``` function that we can use for prioritized sampling. \n",
    "\n",
    "\n",
    "> Complete ``` PriorityBuffer ``` in ``` dqn/replaybuffer/prioritized.py ```.\n",
    "> - ```push```\n",
    "> - ```sample```\n",
    "> - ```update_priority```\n",
    "\n",
    "**Prioritized Buffer** causes a few changes in the code.\n",
    "- ```update``` function in the ```Trainer``` class located at ```dqn/rainbow/train.py```\n",
    "- ``` loss ``` functions (two of them) in the ```Rainbow``` class. Loss tensor must not be averaged over the batch axis! In the ```update``` function we will be using the weighted average loss where the weights are Importance sampling weights obtained from  Prioritized Buffer sample (see the paper for further details). Also, update the td errors of the samples. \n",
    "\n",
    "> Modify ```update``` method in  ```dqn/rainbow/train.py```.\n",
    "\n",
    "> Modify ```vanilla_loss``` in ```dqn/rainbow/model.py```.\n",
    "\n",
    "> Modify ```_next_action_network``` in ```dqn/rainbow/model.py```. (We will comeback to this one in Double & Noisy extensions)\n",
    "\n",
    "Use ```_next_action_network``` to obtain target actions so that the loss functions become compatible with double Q-learning.\n",
    "\n",
    "Remember this while implementing ```update``` function!\n",
    "\n",
    "You can run Prioritized Buffer experiments bash script under the experiments section to test your implementation.\n",
    "\n",
    "- - -\n",
    "\n",
    "#### Distributional RL\n",
    "\n",
    "This extension changes Q value and hence loss function and policy need modifications. Greedy policy need the expected value of Q distribution, therefore we need to implement additional method that we can use in greedy policy. Moreover, we need to have a Q network with more outputs ```(act_size * n_atoms)``` instaed of ```act_size```\n",
    "\n",
    "> Complete ```distributional_loss ``` in ```dqn/rainbow/model.py```.\n",
    "\n",
    "> Complete ```expected_value ``` in ```dqn/rainbow/model.py```.\n",
    "\n",
    "> Modify ```HeadLayer ``` in ```dqn/rainbow/layers.py```.\n",
    "- - -\n",
    "\n",
    "#### N-step Learning\n",
    "\n",
    "There are many ways of using n-step learning, so we will pick the simplest one. Ignore Importance sampling ratios. Yield a transition with a reward that equals to the sum of $n$ consecutive rewards (discounted by gamma) and the nth next state as the next_state. You can find this way of using n-step learning in Chapter 7 of the textbook (without Importance Sampling or Tree Backup, similar to n-step Sarsa). You can use ```deque```s to delay yielding transitions.\n",
    "\n",
    "$(s_t, a_t, \\sum_{j=t}^{t+n}(\\gamma^{j-t} r_t), \\text{done}, s_{t+n})$\n",
    "\n",
    "> Complete ``` __iter__``` in ``` dqn/rainbow/train.py ```\n",
    "\n",
    "We set n to 1 to deactivate this extension.\n",
    "\n",
    "- - -\n",
    "#### Double Q-learning\n",
    "\n",
    "In double Q learning, the target value is calculated using the actions selected from the online network(```valuenet```). Since we already use ```_next_action_network``` function to find the action that yields maximum value at the next state, we only need to implement ```_next_action_network``` method in ```dqn/rainbow/model.py```.\n",
    "\n",
    "> Modify ```_next_action_network``` in ```dqn/rainbow/model.py```.\n",
    "\n",
    "- - -\n",
    "#### Noisy Net\n",
    "\n",
    "In this part, we need to complete ```NoisyLayer``` at ```dqn/rainbow/layers.py```. Moreover, when we use \"noisy-network\" we can act greedily since the stochasticity is built within the network. In ```__iter__``` method at ``` dqn/rainbow/train.py``` use ```greedy_policy``` if noisy-net is active.\n",
    "\n",
    "> Complete ```NoisyLinear``` in ```dqn/rainbow/layers.py```.\n",
    "> - __init__\n",
    "> - reset_noise\n",
    "> - forward\n",
    "\n",
    "> Modify ```update``` in  ```dqn/rainbow/train.py``` to reset noise if noisy network is active. Reset both the target and the online networks separately.\n",
    "\n",
    "> Modify ```__iter__``` in  ```dqn/rainbow/train.py``` to use greedy (but noisy) policy for exploration.\n",
    "\n",
    "> Modify ```ValueNet``` in ```dqn/rainbow/box2d.py```.\n",
    "\n",
    "> Modify ```ValueNet``` in ```dqn/rainbow/pong.py``` when you start working with Pong.\n",
    "\n",
    "> Modify ```HeadLayer``` in ```dqn/rainbow/layers.py```.\n",
    "\n",
    "In eval mode, use parameter means. Do not forget to use eval mode for target value calculations.\n",
    "\n",
    "\n",
    "- - - \n",
    "#### Dueling Architecutre\n",
    "\n",
    "You can implement Dueling architecture by filling the ```HeadLayer``` class at ```dqn/rainbow/layers.py```. Remember, the structure of this class depends on Dueling, Distributional, and Noisy Nets.\n",
    "\n",
    "> Modify ```HeadLayer``` in ```dqn/rainbow/layers.py```.\n",
    "\n",
    "- - - \n",
    "#### Rainbow\n",
    "\n",
    "Once you completed all the extensions you can combine them. Complete the implementation by filling:\n",
    "\n",
    "- In box2D, initialize a fully connected network.\n",
    "> Complete ```ValueNet``` in ```dqn/rainbow/box2d.py``` use ```HeadLayer``` and ```NoisyLinear``` layers if noisy is activated\n",
    "- In pong, initialize a convolutional network that reduces the spatial size into 5 by 5 (or any other value that you prefer). \n",
    "> Complete ```ValueNet``` in ```dqn/rainbow/pong.py``` use ```HeadLayer``` and ```NoisyLinear``` layers if noisy is activated\n",
    "\n"
   ]
  },
  {
   "cell_type": "markdown",
   "metadata": {},
   "source": [
    "### Experiments\n",
    "\n",
    "We will test each extension on its own. Run ```box2d.py``` by enabling one extension at a time and store the results (5 runs per experiment). An example run is given below for prioritized-only experiment.\n",
    "\n",
    "> Remember ```n-iterations``` and ```write-period``` must be fixed within each experiment for plotting purposes!\n",
    "In total, there must be 30 runs (5 for each)."
   ]
  },
  {
   "cell_type": "markdown",
   "metadata": {},
   "source": [
    "#### DQN with Prioritized Buffer"
   ]
  },
  {
   "cell_type": "code",
   "execution_count": null,
   "metadata": {
    "vscode": {
     "languageId": "shellscript"
    }
   },
   "outputs": [],
   "source": [
    "!python dqn/rainbow/box2d.py --log_dir logs/prioritized --no-dist --no-dueling --n-step 1 --no-double --no-noisy"
   ]
  },
  {
   "cell_type": "markdown",
   "metadata": {},
   "source": [
    "#### DQN with Distributional Values"
   ]
  },
  {
   "cell_type": "code",
   "execution_count": null,
   "metadata": {
    "vscode": {
     "languageId": "shellscript"
    }
   },
   "outputs": [],
   "source": [
    "!python dqn/rainbow/box2d.py --log_dir logs/distributional --no-prioritized --no-dueling --n-step 1 --no-double --no-noisy"
   ]
  },
  {
   "cell_type": "markdown",
   "metadata": {},
   "source": [
    "#### DQN with N-Step"
   ]
  },
  {
   "cell_type": "code",
   "execution_count": null,
   "metadata": {
    "vscode": {
     "languageId": "shellscript"
    }
   },
   "outputs": [],
   "source": [
    "!python dqn/rainbow/box2d.py --log_dir logs/nsteps --no-prioritized --no-dist --no-dueling --n-step ?(>1) --no-double --no-noisy"
   ]
  },
  {
   "cell_type": "markdown",
   "metadata": {},
   "source": [
    "#### DQN with Double Q-learning"
   ]
  },
  {
   "cell_type": "code",
   "execution_count": null,
   "metadata": {
    "vscode": {
     "languageId": "shellscript"
    }
   },
   "outputs": [],
   "source": [
    "!python dqn/rainbow/box2d.py --log_dir logs/double --no-prioritized --no-dist --no-dueling --n-step 1 --no-noisy"
   ]
  },
  {
   "cell_type": "markdown",
   "metadata": {},
   "source": [
    "#### DQN with Dueling Architecture"
   ]
  },
  {
   "cell_type": "code",
   "execution_count": null,
   "metadata": {
    "vscode": {
     "languageId": "shellscript"
    }
   },
   "outputs": [],
   "source": [
    "!python dqn/rainbow/box2d.py --log_dir logs/dueling --no-prioritized --no-dist --n-step --no-double --no-noisy"
   ]
  },
  {
   "cell_type": "markdown",
   "metadata": {},
   "source": [
    "#### DQN with Noisy Networks"
   ]
  },
  {
   "cell_type": "code",
   "execution_count": null,
   "metadata": {
    "vscode": {
     "languageId": "shellscript"
    }
   },
   "outputs": [],
   "source": [
    "python dqn/rainbow/box2d.py --log_dir logs/noisy --no-prioritized --no-dist --no-dueling --n-step 1 --no-double"
   ]
  },
  {
   "cell_type": "markdown",
   "metadata": {},
   "source": [
    "### Gather dataframes"
   ]
  },
  {
   "cell_type": "code",
   "execution_count": null,
   "metadata": {},
   "outputs": [],
   "source": [
    "dataframes_vanilla = collect_training_logs(os.path.join(\"logs\", \"vanilla-dqn-exp2\"))\n",
    "dataframes_prioritized = collect_training_logs(os.path.join(\"logs\", \"prioritized\"))\n",
    "dataframes_distributional = collect_training_logs(os.path.join(\"logs\", \"distributional\"))\n",
    "dataframes_nsteps = collect_training_logs(os.path.join(\"logs\", \"nsteps\"))\n",
    "dataframes_double = collect_training_logs(os.path.join(\"logs\", \"double\"))\n",
    "dataframes_dueling = collect_training_logs(os.path.join(\"logs\", \"dueling\"))\n",
    "dataframes_noisy = collect_training_logs(os.path.join(\"logs\", \"noisy\"))"
   ]
  },
  {
   "cell_type": "markdown",
   "metadata": {},
   "source": [
    "Plot the results using the provided Plotter."
   ]
  },
  {
   "cell_type": "code",
   "execution_count": null,
   "metadata": {},
   "outputs": [],
   "source": [
    "Plotter(\n",
    "    {\"dqn\": dataframes_vanilla,\n",
    "     \"dqn+prioritized_buffer\": dataframes_prioritized,\n",
    "     \"dqn+distributional\": dataframes_distributional,\n",
    "     \"dqn+n_step\": dataframes_nsteps,\n",
    "     \"dqn+double_q\": dataframes_double,\n",
    "     \"dqn+dueling\": dataframes_dueling,\n",
    "     \"dqn+noisy_nets\": dataframes_noisy,\n",
    "    }\n",
    ")()"
   ]
  },
  {
   "cell_type": "markdown",
   "metadata": {},
   "source": [
    "> You can remove the ones that you did not implement from the plots.\n",
    "\n",
    "> Feel free to experiment with hyperparameters. You can plot their scores and compare them."
   ]
  },
  {
   "cell_type": "markdown",
   "metadata": {},
   "source": [
    "**ATARI**\n",
    "\n",
    "The next step is to train **Pong** with the Rainbow agent. This time, please enable model saving ```--save-model``` and upload the model parameters that returns the highest evaluation score to google drive. Put the link at the end of the notebook. You can use any combination of extensions.\n",
    "\n",
    "> **Note**: No need to run Pong for more than 1 run!\n",
    "\n",
    "> **Note**: You need GPU for this experiment! You can use [Colab](https://colab.research.google.com/) if you do not have access to a GPU machine.\n",
    "\n",
    "> **Note**: Check the ```dqn/rainbow/pong.py``` script for the available keyword arguments.\n",
    "\n",
    "Before starting a long training make sure that pong.py terminates successfully."
   ]
  },
  {
   "cell_type": "code",
   "execution_count": null,
   "metadata": {
    "vscode": {
     "languageId": "shellscript"
    }
   },
   "outputs": [],
   "source": [
    "!python dqn/rainbow/pong.py --log_dir logs/pong ?"
   ]
  },
  {
   "cell_type": "code",
   "execution_count": null,
   "metadata": {},
   "outputs": [],
   "source": [
    "# Plot the training\n",
    "Plotter({\"dqn\": collect_training_logs(os.path.join(\"logs\", \"pong\"))})()"
   ]
  },
  {
   "cell_type": "markdown",
   "metadata": {},
   "source": [
    "Put Google drive [link](?) for the model paramterers."
   ]
  },
  {
   "cell_type": "markdown",
   "metadata": {},
   "source": []
  }
 ],
 "metadata": {
  "hide_input": false,
  "kernelspec": {
   "display_name": "Python 3 (ipykernel)",
   "language": "python",
   "name": "python3"
  },
  "language_info": {
   "codemirror_mode": {
    "name": "ipython",
    "version": 3
   },
   "file_extension": ".py",
   "mimetype": "text/x-python",
   "name": "python",
   "nbconvert_exporter": "python",
   "pygments_lexer": "ipython3",
   "version": "3.7.12"
  },
  "varInspector": {
   "cols": {
    "lenName": 16,
    "lenType": 16,
    "lenVar": 40
   },
   "kernels_config": {
    "python": {
     "delete_cmd_postfix": "",
     "delete_cmd_prefix": "del ",
     "library": "var_list.py",
     "varRefreshCmd": "print(var_dic_list())"
    },
    "r": {
     "delete_cmd_postfix": ") ",
     "delete_cmd_prefix": "rm(",
     "library": "var_list.r",
     "varRefreshCmd": "cat(var_dic_list()) "
    }
   },
   "types_to_exclude": [
    "module",
    "function",
    "builtin_function_or_method",
    "instance",
    "_Feature"
   ],
   "window_display": false
  }
 },
 "nbformat": 4,
 "nbformat_minor": 4
}
